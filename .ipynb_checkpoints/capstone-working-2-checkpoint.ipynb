{
 "cells": [
  {
   "cell_type": "code",
   "execution_count": 1,
   "metadata": {
    "collapsed": false
   },
   "outputs": [],
   "source": [
    "from bs4 import BeautifulSoup\n",
    "import urllib2\n",
    "import pandas as pd\n",
    "import numpy as np\n",
    "\n",
    "\n",
    "\n",
    "from datetime import date, timedelta, datetime\n",
    "from time import sleep\n",
    "import os.path\n",
    "\n",
    "import re\n",
    "import random\n",
    "\n",
    "import matplotlib.pyplot as plt\n",
    "%matplotlib inline\n",
    "\n",
    "from sentimenter import sentimenter as slr"
   ]
  },
  {
   "cell_type": "code",
   "execution_count": 95,
   "metadata": {
    "collapsed": false
   },
   "outputs": [],
   "source": [
    "from sklearn.linear_model import LinearRegression, ElasticNetCV, RidgeCV, LassoCV\n",
    "# from sklearn.cross_validation import train_test_split\n",
    "from sklearn.cross_validation import StratifiedKFold, cross_val_score, train_test_split\n",
    "from sklearn.metrics import explained_variance_score, mean_absolute_error, silhouette_score\n",
    "from sklearn.ensemble import RandomForestRegressor, ExtraTreesRegressor\n",
    "from sklearn.tree import DecisionTreeRegressor\n",
    "from sklearn.grid_search import GridSearchCV\n",
    "\n",
    "from sklearn.externals import joblib\n",
    "\n",
    "import pydot\n",
    "from IPython.display import Image\n",
    "\n",
    "import seaborn as sns\n",
    "import matplotlib.pyplot as plt\n",
    "\n",
    "%matplotlib inline"
   ]
  },
  {
   "cell_type": "markdown",
   "metadata": {},
   "source": [
    "# Data Collection"
   ]
  },
  {
   "cell_type": "code",
   "execution_count": 3,
   "metadata": {
    "collapsed": false
   },
   "outputs": [
    {
     "name": "stdout",
     "output_type": "stream",
     "text": [
      "<class 'pandas.core.frame.DataFrame'>\n",
      "Int64Index: 505 entries, 0 to 504\n",
      "Data columns (total 8 columns):\n",
      "Ticker_symbol              505 non-null object\n",
      "Security                   505 non-null object\n",
      "SEC_filings                505 non-null object\n",
      "GICS_Sector                505 non-null object\n",
      "GICS_Sub_Industry          505 non-null object\n",
      "Address_of_Headquarters    505 non-null object\n",
      "Date_first_added           305 non-null object\n",
      "CIK                        505 non-null int64\n",
      "dtypes: int64(1), object(7)\n",
      "memory usage: 35.5+ KB\n",
      "None\n"
     ]
    },
    {
     "data": {
      "text/html": [
       "<div>\n",
       "<table border=\"1\" class=\"dataframe\">\n",
       "  <thead>\n",
       "    <tr style=\"text-align: right;\">\n",
       "      <th></th>\n",
       "      <th>Ticker_symbol</th>\n",
       "      <th>Security</th>\n",
       "      <th>SEC_filings</th>\n",
       "      <th>GICS_Sector</th>\n",
       "      <th>GICS_Sub_Industry</th>\n",
       "      <th>Address_of_Headquarters</th>\n",
       "      <th>Date_first_added</th>\n",
       "      <th>CIK</th>\n",
       "    </tr>\n",
       "  </thead>\n",
       "  <tbody>\n",
       "    <tr>\n",
       "      <th>0</th>\n",
       "      <td>MMM</td>\n",
       "      <td>3M Company</td>\n",
       "      <td>reports</td>\n",
       "      <td>Industrials</td>\n",
       "      <td>Industrial Conglomerates</td>\n",
       "      <td>St. Paul, Minnesota</td>\n",
       "      <td>NaN</td>\n",
       "      <td>66740</td>\n",
       "    </tr>\n",
       "    <tr>\n",
       "      <th>1</th>\n",
       "      <td>ABT</td>\n",
       "      <td>Abbott Laboratories</td>\n",
       "      <td>reports</td>\n",
       "      <td>Health Care</td>\n",
       "      <td>Health Care Equipment</td>\n",
       "      <td>North Chicago, Illinois</td>\n",
       "      <td>1964-03-31</td>\n",
       "      <td>1800</td>\n",
       "    </tr>\n",
       "    <tr>\n",
       "      <th>2</th>\n",
       "      <td>ABBV</td>\n",
       "      <td>AbbVie</td>\n",
       "      <td>reports</td>\n",
       "      <td>Health Care</td>\n",
       "      <td>Pharmaceuticals</td>\n",
       "      <td>North Chicago, Illinois</td>\n",
       "      <td>2012-12-31</td>\n",
       "      <td>1551152</td>\n",
       "    </tr>\n",
       "    <tr>\n",
       "      <th>3</th>\n",
       "      <td>ACN</td>\n",
       "      <td>Accenture plc</td>\n",
       "      <td>reports</td>\n",
       "      <td>Information Technology</td>\n",
       "      <td>IT Consulting &amp; Other Services</td>\n",
       "      <td>Dublin, Ireland</td>\n",
       "      <td>2011-07-06</td>\n",
       "      <td>1467373</td>\n",
       "    </tr>\n",
       "    <tr>\n",
       "      <th>4</th>\n",
       "      <td>ATVI</td>\n",
       "      <td>Activision Blizzard</td>\n",
       "      <td>reports</td>\n",
       "      <td>Information Technology</td>\n",
       "      <td>Home Entertainment Software</td>\n",
       "      <td>Santa Monica, California</td>\n",
       "      <td>2015-08-31</td>\n",
       "      <td>718877</td>\n",
       "    </tr>\n",
       "  </tbody>\n",
       "</table>\n",
       "</div>"
      ],
      "text/plain": [
       "  Ticker_symbol             Security SEC_filings             GICS_Sector  \\\n",
       "0           MMM           3M Company     reports             Industrials   \n",
       "1           ABT  Abbott Laboratories     reports             Health Care   \n",
       "2          ABBV               AbbVie     reports             Health Care   \n",
       "3           ACN        Accenture plc     reports  Information Technology   \n",
       "4          ATVI  Activision Blizzard     reports  Information Technology   \n",
       "\n",
       "                GICS_Sub_Industry   Address_of_Headquarters Date_first_added  \\\n",
       "0        Industrial Conglomerates       St. Paul, Minnesota              NaN   \n",
       "1           Health Care Equipment   North Chicago, Illinois       1964-03-31   \n",
       "2                 Pharmaceuticals   North Chicago, Illinois       2012-12-31   \n",
       "3  IT Consulting & Other Services           Dublin, Ireland       2011-07-06   \n",
       "4     Home Entertainment Software  Santa Monica, California       2015-08-31   \n",
       "\n",
       "       CIK  \n",
       "0    66740  \n",
       "1     1800  \n",
       "2  1551152  \n",
       "3  1467373  \n",
       "4   718877  "
      ]
     },
     "execution_count": 3,
     "metadata": {},
     "output_type": "execute_result"
    }
   ],
   "source": [
    "companies = slr.get_companies()\n",
    "companies['Ticker_symbol'] = companies['Ticker_symbol'].apply(lambda x: x.replace('.N', ''))\n",
    "print companies.info()\n",
    "companies.head()"
   ]
  },
  {
   "cell_type": "code",
   "execution_count": 12,
   "metadata": {
    "collapsed": false
   },
   "outputs": [
    {
     "name": "stdout",
     "output_type": "stream",
     "text": [
      "['PWR', 'QCOM', 'ROK', 'COL', 'ROP', 'ROST', 'RCL', 'R', 'CRM', 'SCG', 'SLB', 'SNI', 'STX', 'SEE', 'SRE', 'SHW', 'SIG', 'SPG', 'SWKS', 'SLG', 'SNA', 'SO', 'LUV', 'SWN', 'SE', 'SPGI', 'STJ', 'SWK', 'SPLS', 'SBUX', 'STT', 'SRCL', 'SYK', 'STI', 'SYMC', 'SYF', 'SYY', 'TROW', 'TGT', 'TEL', 'TGNA', 'TDC', 'TSO', 'TXN', 'TXT', 'COO', 'HSY', 'TRV', 'TMO', 'TIF', 'TWX', 'TJX', 'TMK', 'TSS', 'TSCO', 'TDG', 'RIG', 'TRIP', 'FOXA', 'FOX', 'TSN', 'UDR', 'ULTA', 'USB', 'UA', 'UA.C', 'UNP', 'UAL', 'UNH', 'UPS', 'URI', 'UTX', 'UHS', 'UNM', 'URBN', 'VFC', 'VLO', 'VAR', 'VTR', 'VRSN', 'VRSK', 'VZ', 'VRTX', 'VIAB', 'V', 'VNO', 'VMC', 'WMT', 'WBA', 'DIS', 'WM', 'WAT', 'WFC', 'HCN', 'WDC', 'WU', 'WRK', 'WY', 'WHR', 'WFM', 'WMB', 'WLTW', 'WEC', 'WYN', 'WYNN', 'XEL', 'XRX', 'XLNX', 'XL', 'XYL', 'YHOO', 'YUM', 'ZBH', 'ZION', 'ZTS']\n",
      "(61864, 6) (61858, 10)\n",
      "need to sentimentalize 1 symbols\n",
      "updated sentiments\n",
      "<class 'pandas.core.frame.DataFrame'>\n",
      "Int64Index: 61864 entries, 0 to 5\n",
      "Data columns (total 10 columns):\n",
      "Article     61864 non-null object\n",
      "Date        61864 non-null object\n",
      "Symbol      61864 non-null object\n",
      "Time        61864 non-null object\n",
      "Title       61864 non-null object\n",
      "Url         61864 non-null object\n",
      "compound    61864 non-null float64\n",
      "neg         61864 non-null float64\n",
      "neu         61864 non-null float64\n",
      "pos         61864 non-null float64\n",
      "dtypes: float64(4), object(6)\n",
      "memory usage: 5.2+ MB\n"
     ]
    }
   ],
   "source": [
    "all_articles = slr.get_sentimentalized_articles(companies)\n",
    "all_articles.info()"
   ]
  },
  {
   "cell_type": "code",
   "execution_count": 13,
   "metadata": {
    "collapsed": false
   },
   "outputs": [
    {
     "name": "stdout",
     "output_type": "stream",
     "text": [
      "Available symbol quotes:  386\n",
      "New downloaded symbol quotes:  1\n",
      "<class 'pandas.core.frame.DataFrame'>\n",
      "RangeIndex: 283447 entries, 0 to 283446\n",
      "Data columns (total 8 columns):\n",
      "Date         283447 non-null object\n",
      "Adj Close    268963 non-null float64\n",
      "Close        283447 non-null float64\n",
      "High         283447 non-null float64\n",
      "Low          283447 non-null float64\n",
      "Open         283447 non-null float64\n",
      "Symbol       283447 non-null object\n",
      "Volume       283447 non-null float64\n",
      "dtypes: float64(6), object(2)\n",
      "memory usage: 17.3+ MB\n"
     ]
    }
   ],
   "source": [
    "quotes = slr.update_quotes(all_articles)\n",
    "quotes.info()"
   ]
  },
  {
   "cell_type": "markdown",
   "metadata": {},
   "source": [
    "# Data preparation"
   ]
  },
  {
   "cell_type": "code",
   "execution_count": 15,
   "metadata": {
    "collapsed": false
   },
   "outputs": [
    {
     "data": {
      "text/html": [
       "<div>\n",
       "<table border=\"1\" class=\"dataframe\">\n",
       "  <thead>\n",
       "    <tr style=\"text-align: right;\">\n",
       "      <th></th>\n",
       "      <th>Article</th>\n",
       "      <th>Date</th>\n",
       "      <th>Symbol</th>\n",
       "      <th>Time</th>\n",
       "      <th>Title</th>\n",
       "      <th>Url</th>\n",
       "      <th>compound</th>\n",
       "      <th>neg</th>\n",
       "      <th>neu</th>\n",
       "      <th>pos</th>\n",
       "    </tr>\n",
       "  </thead>\n",
       "  <tbody>\n",
       "    <tr>\n",
       "      <th>0</th>\n",
       "      <td>MOSCOW Jan 17 Russia's biggest home electron...</td>\n",
       "      <td>2014-01-17</td>\n",
       "      <td>MMM</td>\n",
       "      <td>7:49</td>\n",
       "      <td>Russia's M.video says consumer confidence weak...</td>\n",
       "      <td>http://www.reuters.com//article/russia-mvideo-...</td>\n",
       "      <td>0.0516</td>\n",
       "      <td>0.049</td>\n",
       "      <td>0.901</td>\n",
       "      <td>0.051</td>\n",
       "    </tr>\n",
       "    <tr>\n",
       "      <th>1</th>\n",
       "      <td>By Lewis Krauskopf  Diversified manufacture...</td>\n",
       "      <td>2014-01-30</td>\n",
       "      <td>MMM</td>\n",
       "      <td>9:44</td>\n",
       "      <td>3M revenue growth slows, misses Wall Street ta...</td>\n",
       "      <td>http://www.reuters.com//article/us-3m-results-...</td>\n",
       "      <td>0.7096</td>\n",
       "      <td>0.037</td>\n",
       "      <td>0.896</td>\n",
       "      <td>0.067</td>\n",
       "    </tr>\n",
       "    <tr>\n",
       "      <th>2</th>\n",
       "      <td>By Lewis KrauskopfJan 30 Diversified manufac...</td>\n",
       "      <td>2014-01-30</td>\n",
       "      <td>MMM</td>\n",
       "      <td>9:42</td>\n",
       "      <td>UPDATE 2-3M revenue growth slows, misses Wall ...</td>\n",
       "      <td>http://www.reuters.com//article/3m-results-idU...</td>\n",
       "      <td>0.7964</td>\n",
       "      <td>0.038</td>\n",
       "      <td>0.886</td>\n",
       "      <td>0.076</td>\n",
       "    </tr>\n",
       "    <tr>\n",
       "      <th>3</th>\n",
       "      <td>Jan 30 Diversified manufacturer 3M Co  poste...</td>\n",
       "      <td>2014-01-30</td>\n",
       "      <td>MMM</td>\n",
       "      <td>7:39</td>\n",
       "      <td>Manufacturer 3M posts 11 percent rise in net i...</td>\n",
       "      <td>http://www.reuters.com//article/3m-results-idU...</td>\n",
       "      <td>0.7430</td>\n",
       "      <td>0.000</td>\n",
       "      <td>0.885</td>\n",
       "      <td>0.115</td>\n",
       "    </tr>\n",
       "    <tr>\n",
       "      <th>4</th>\n",
       "      <td>3M Co. has invested US$15 million in one of ...</td>\n",
       "      <td>2014-03-10</td>\n",
       "      <td>MMM</td>\n",
       "      <td>8:19</td>\n",
       "      <td>SINGAPORE PRESS-3M to lift N95 mask output at ...</td>\n",
       "      <td>http://www.reuters.com//article/singapore-pres...</td>\n",
       "      <td>0.4019</td>\n",
       "      <td>0.000</td>\n",
       "      <td>0.958</td>\n",
       "      <td>0.042</td>\n",
       "    </tr>\n",
       "  </tbody>\n",
       "</table>\n",
       "</div>"
      ],
      "text/plain": [
       "                                             Article       Date Symbol  Time  \\\n",
       "0    MOSCOW Jan 17 Russia's biggest home electron... 2014-01-17    MMM  7:49   \n",
       "1     By Lewis Krauskopf  Diversified manufacture... 2014-01-30    MMM  9:44   \n",
       "2    By Lewis KrauskopfJan 30 Diversified manufac... 2014-01-30    MMM  9:42   \n",
       "3    Jan 30 Diversified manufacturer 3M Co  poste... 2014-01-30    MMM  7:39   \n",
       "4    3M Co. has invested US$15 million in one of ... 2014-03-10    MMM  8:19   \n",
       "\n",
       "                                               Title  \\\n",
       "0  Russia's M.video says consumer confidence weak...   \n",
       "1  3M revenue growth slows, misses Wall Street ta...   \n",
       "2  UPDATE 2-3M revenue growth slows, misses Wall ...   \n",
       "3  Manufacturer 3M posts 11 percent rise in net i...   \n",
       "4  SINGAPORE PRESS-3M to lift N95 mask output at ...   \n",
       "\n",
       "                                                 Url  compound    neg    neu  \\\n",
       "0  http://www.reuters.com//article/russia-mvideo-...    0.0516  0.049  0.901   \n",
       "1  http://www.reuters.com//article/us-3m-results-...    0.7096  0.037  0.896   \n",
       "2  http://www.reuters.com//article/3m-results-idU...    0.7964  0.038  0.886   \n",
       "3  http://www.reuters.com//article/3m-results-idU...    0.7430  0.000  0.885   \n",
       "4  http://www.reuters.com//article/singapore-pres...    0.4019  0.000  0.958   \n",
       "\n",
       "     pos  \n",
       "0  0.051  \n",
       "1  0.067  \n",
       "2  0.076  \n",
       "3  0.115  \n",
       "4  0.042  "
      ]
     },
     "execution_count": 15,
     "metadata": {},
     "output_type": "execute_result"
    }
   ],
   "source": [
    "# Change Time column to simple time format\n",
    "all_articles.Time = all_articles.Time.apply(lambda x: re.search('[0-9]?[0-9]:[0-9]{1,2}', x).group(0))\n",
    "# Convert Date to DateTime\n",
    "all_articles['Date'] = pd.to_datetime(all_articles['Date'], format='%Y-%m-%d')\n",
    "all_articles.head()"
   ]
  },
  {
   "cell_type": "code",
   "execution_count": 16,
   "metadata": {
    "collapsed": false
   },
   "outputs": [
    {
     "data": {
      "text/html": [
       "<div>\n",
       "<table border=\"1\" class=\"dataframe\">\n",
       "  <thead>\n",
       "    <tr style=\"text-align: right;\">\n",
       "      <th></th>\n",
       "      <th>Date</th>\n",
       "      <th>Close</th>\n",
       "      <th>High</th>\n",
       "      <th>Low</th>\n",
       "      <th>Open</th>\n",
       "      <th>Symbol</th>\n",
       "      <th>Volume</th>\n",
       "    </tr>\n",
       "  </thead>\n",
       "  <tbody>\n",
       "    <tr>\n",
       "      <th>0</th>\n",
       "      <td>2014-01-02</td>\n",
       "      <td>35.53</td>\n",
       "      <td>36.11</td>\n",
       "      <td>35.47</td>\n",
       "      <td>36.05</td>\n",
       "      <td>AEE</td>\n",
       "      <td>1394264.0</td>\n",
       "    </tr>\n",
       "    <tr>\n",
       "      <th>1</th>\n",
       "      <td>2014-01-03</td>\n",
       "      <td>35.40</td>\n",
       "      <td>35.69</td>\n",
       "      <td>35.22</td>\n",
       "      <td>35.63</td>\n",
       "      <td>AEE</td>\n",
       "      <td>1206534.0</td>\n",
       "    </tr>\n",
       "    <tr>\n",
       "      <th>2</th>\n",
       "      <td>2014-01-06</td>\n",
       "      <td>35.76</td>\n",
       "      <td>35.82</td>\n",
       "      <td>35.42</td>\n",
       "      <td>35.70</td>\n",
       "      <td>AEE</td>\n",
       "      <td>2837469.0</td>\n",
       "    </tr>\n",
       "    <tr>\n",
       "      <th>3</th>\n",
       "      <td>2014-01-07</td>\n",
       "      <td>36.22</td>\n",
       "      <td>36.25</td>\n",
       "      <td>35.81</td>\n",
       "      <td>35.81</td>\n",
       "      <td>AEE</td>\n",
       "      <td>1653721.0</td>\n",
       "    </tr>\n",
       "    <tr>\n",
       "      <th>4</th>\n",
       "      <td>2014-01-08</td>\n",
       "      <td>35.94</td>\n",
       "      <td>36.19</td>\n",
       "      <td>35.80</td>\n",
       "      <td>36.14</td>\n",
       "      <td>AEE</td>\n",
       "      <td>1618538.0</td>\n",
       "    </tr>\n",
       "  </tbody>\n",
       "</table>\n",
       "</div>"
      ],
      "text/plain": [
       "        Date  Close   High    Low   Open Symbol     Volume\n",
       "0 2014-01-02  35.53  36.11  35.47  36.05    AEE  1394264.0\n",
       "1 2014-01-03  35.40  35.69  35.22  35.63    AEE  1206534.0\n",
       "2 2014-01-06  35.76  35.82  35.42  35.70    AEE  2837469.0\n",
       "3 2014-01-07  36.22  36.25  35.81  35.81    AEE  1653721.0\n",
       "4 2014-01-08  35.94  36.19  35.80  36.14    AEE  1618538.0"
      ]
     },
     "execution_count": 16,
     "metadata": {},
     "output_type": "execute_result"
    }
   ],
   "source": [
    "# Remove unwanted column\n",
    "quotes = quotes.drop('Adj Close', axis=1)\n",
    "# Convert Date to DateTime\n",
    "quotes['Date'] = pd.to_datetime(quotes['Date'], format='%Y-%m-%d')\n",
    "quotes.head()"
   ]
  },
  {
   "cell_type": "code",
   "execution_count": 17,
   "metadata": {
    "collapsed": false
   },
   "outputs": [],
   "source": [
    "articles = all_articles.copy()\n",
    "# create a new dataframe with just sentiments\n",
    "articles = articles[['Date', 'Symbol', 'compound', 'neg', 'neu', 'pos']]"
   ]
  },
  {
   "cell_type": "code",
   "execution_count": 19,
   "metadata": {
    "collapsed": false
   },
   "outputs": [
    {
     "data": {
      "text/html": [
       "<div>\n",
       "<table border=\"1\" class=\"dataframe\">\n",
       "  <thead>\n",
       "    <tr style=\"text-align: right;\">\n",
       "      <th></th>\n",
       "      <th>Date</th>\n",
       "      <th>Symbol</th>\n",
       "      <th>compound</th>\n",
       "      <th>neg</th>\n",
       "      <th>neu</th>\n",
       "      <th>pos</th>\n",
       "    </tr>\n",
       "  </thead>\n",
       "  <tbody>\n",
       "    <tr>\n",
       "      <th>0</th>\n",
       "      <td>2014-01-01</td>\n",
       "      <td>AAL</td>\n",
       "      <td>0.97710</td>\n",
       "      <td>0.035000</td>\n",
       "      <td>0.897</td>\n",
       "      <td>0.068000</td>\n",
       "    </tr>\n",
       "    <tr>\n",
       "      <th>1</th>\n",
       "      <td>2014-01-01</td>\n",
       "      <td>AZO</td>\n",
       "      <td>0.99110</td>\n",
       "      <td>0.055000</td>\n",
       "      <td>0.836</td>\n",
       "      <td>0.109000</td>\n",
       "    </tr>\n",
       "    <tr>\n",
       "      <th>2</th>\n",
       "      <td>2014-01-01</td>\n",
       "      <td>BRKB</td>\n",
       "      <td>-0.99340</td>\n",
       "      <td>0.122000</td>\n",
       "      <td>0.822</td>\n",
       "      <td>0.056000</td>\n",
       "    </tr>\n",
       "    <tr>\n",
       "      <th>3</th>\n",
       "      <td>2014-01-01</td>\n",
       "      <td>CPB</td>\n",
       "      <td>-0.17790</td>\n",
       "      <td>0.079500</td>\n",
       "      <td>0.864</td>\n",
       "      <td>0.056000</td>\n",
       "    </tr>\n",
       "    <tr>\n",
       "      <th>4</th>\n",
       "      <td>2014-01-02</td>\n",
       "      <td>AAPL</td>\n",
       "      <td>0.95785</td>\n",
       "      <td>0.031833</td>\n",
       "      <td>0.876</td>\n",
       "      <td>0.092333</td>\n",
       "    </tr>\n",
       "  </tbody>\n",
       "</table>\n",
       "</div>"
      ],
      "text/plain": [
       "        Date Symbol  compound       neg    neu       pos\n",
       "0 2014-01-01    AAL   0.97710  0.035000  0.897  0.068000\n",
       "1 2014-01-01    AZO   0.99110  0.055000  0.836  0.109000\n",
       "2 2014-01-01   BRKB  -0.99340  0.122000  0.822  0.056000\n",
       "3 2014-01-01    CPB  -0.17790  0.079500  0.864  0.056000\n",
       "4 2014-01-02   AAPL   0.95785  0.031833  0.876  0.092333"
      ]
     },
     "execution_count": 19,
     "metadata": {},
     "output_type": "execute_result"
    }
   ],
   "source": [
    "# pivot multiple news to a single one by averaging its score\n",
    "articles = pd.pivot_table(articles,\n",
    "                          index=['Date', 'Symbol'],\n",
    "                          values=['compound', 'neg', 'neu', 'pos'],\n",
    "                          aggfunc=np.average).reset_index()\n",
    "articles.head()"
   ]
  },
  {
   "cell_type": "code",
   "execution_count": 26,
   "metadata": {
    "collapsed": false,
    "scrolled": true
   },
   "outputs": [
    {
     "name": "stdout",
     "output_type": "stream",
     "text": [
      "We have 387 symbols in articles and 387 symbols in quotes\n",
      "shape of articles: (24596, 6), shape of quotes: (283447, 7)\n"
     ]
    }
   ],
   "source": [
    "# check whether we have news and quotes for same number of symbols\n",
    "print \"We have {} symbols in articles and {} symbols in quotes\".format(\n",
    "    len(articles['Symbol'].unique()), len(quotes['Symbol'].unique()))\n",
    "print \"shape of articles: {}, shape of quotes: {}\".format(articles.shape, quotes.shape)"
   ]
  },
  {
   "cell_type": "code",
   "execution_count": 27,
   "metadata": {
    "collapsed": false
   },
   "outputs": [
    {
     "data": {
      "text/html": [
       "<div>\n",
       "<table border=\"1\" class=\"dataframe\">\n",
       "  <thead>\n",
       "    <tr style=\"text-align: right;\">\n",
       "      <th></th>\n",
       "      <th>Date</th>\n",
       "      <th>Symbol</th>\n",
       "      <th>Close</th>\n",
       "      <th>High</th>\n",
       "      <th>Low</th>\n",
       "      <th>Open</th>\n",
       "      <th>Volume</th>\n",
       "      <th>compound</th>\n",
       "      <th>neg</th>\n",
       "      <th>neu</th>\n",
       "      <th>pos</th>\n",
       "    </tr>\n",
       "  </thead>\n",
       "  <tbody>\n",
       "    <tr>\n",
       "      <th>0</th>\n",
       "      <td>2014-01-02</td>\n",
       "      <td>AEE</td>\n",
       "      <td>35.53</td>\n",
       "      <td>36.11</td>\n",
       "      <td>35.47</td>\n",
       "      <td>36.05</td>\n",
       "      <td>1394264.0</td>\n",
       "      <td>NaN</td>\n",
       "      <td>NaN</td>\n",
       "      <td>NaN</td>\n",
       "      <td>NaN</td>\n",
       "    </tr>\n",
       "    <tr>\n",
       "      <th>1</th>\n",
       "      <td>2014-01-03</td>\n",
       "      <td>AEE</td>\n",
       "      <td>35.40</td>\n",
       "      <td>35.69</td>\n",
       "      <td>35.22</td>\n",
       "      <td>35.63</td>\n",
       "      <td>1206534.0</td>\n",
       "      <td>NaN</td>\n",
       "      <td>NaN</td>\n",
       "      <td>NaN</td>\n",
       "      <td>NaN</td>\n",
       "    </tr>\n",
       "    <tr>\n",
       "      <th>2</th>\n",
       "      <td>2014-01-06</td>\n",
       "      <td>AEE</td>\n",
       "      <td>35.76</td>\n",
       "      <td>35.82</td>\n",
       "      <td>35.42</td>\n",
       "      <td>35.70</td>\n",
       "      <td>2837469.0</td>\n",
       "      <td>NaN</td>\n",
       "      <td>NaN</td>\n",
       "      <td>NaN</td>\n",
       "      <td>NaN</td>\n",
       "    </tr>\n",
       "    <tr>\n",
       "      <th>3</th>\n",
       "      <td>2014-01-07</td>\n",
       "      <td>AEE</td>\n",
       "      <td>36.22</td>\n",
       "      <td>36.25</td>\n",
       "      <td>35.81</td>\n",
       "      <td>35.81</td>\n",
       "      <td>1653721.0</td>\n",
       "      <td>NaN</td>\n",
       "      <td>NaN</td>\n",
       "      <td>NaN</td>\n",
       "      <td>NaN</td>\n",
       "    </tr>\n",
       "    <tr>\n",
       "      <th>4</th>\n",
       "      <td>2014-01-08</td>\n",
       "      <td>AEE</td>\n",
       "      <td>35.94</td>\n",
       "      <td>36.19</td>\n",
       "      <td>35.80</td>\n",
       "      <td>36.14</td>\n",
       "      <td>1618538.0</td>\n",
       "      <td>NaN</td>\n",
       "      <td>NaN</td>\n",
       "      <td>NaN</td>\n",
       "      <td>NaN</td>\n",
       "    </tr>\n",
       "  </tbody>\n",
       "</table>\n",
       "</div>"
      ],
      "text/plain": [
       "        Date Symbol  Close   High    Low   Open     Volume  compound  neg  \\\n",
       "0 2014-01-02    AEE  35.53  36.11  35.47  36.05  1394264.0       NaN  NaN   \n",
       "1 2014-01-03    AEE  35.40  35.69  35.22  35.63  1206534.0       NaN  NaN   \n",
       "2 2014-01-06    AEE  35.76  35.82  35.42  35.70  2837469.0       NaN  NaN   \n",
       "3 2014-01-07    AEE  36.22  36.25  35.81  35.81  1653721.0       NaN  NaN   \n",
       "4 2014-01-08    AEE  35.94  36.19  35.80  36.14  1618538.0       NaN  NaN   \n",
       "\n",
       "   neu  pos  \n",
       "0  NaN  NaN  \n",
       "1  NaN  NaN  \n",
       "2  NaN  NaN  \n",
       "3  NaN  NaN  \n",
       "4  NaN  NaN  "
      ]
     },
     "execution_count": 27,
     "metadata": {},
     "output_type": "execute_result"
    }
   ],
   "source": [
    "# join articles to quotes\n",
    "quotes_articles = quotes.set_index(['Date', 'Symbol']).join(\n",
    "    articles.set_index(['Date', 'Symbol']), rsuffix='r').reset_index()\n",
    "quotes_articles.head()"
   ]
  },
  {
   "cell_type": "code",
   "execution_count": 29,
   "metadata": {
    "collapsed": false
   },
   "outputs": [
    {
     "data": {
      "text/html": [
       "<div>\n",
       "<table border=\"1\" class=\"dataframe\">\n",
       "  <thead>\n",
       "    <tr style=\"text-align: right;\">\n",
       "      <th></th>\n",
       "      <th>Date</th>\n",
       "      <th>Symbol</th>\n",
       "      <th>Close</th>\n",
       "      <th>High</th>\n",
       "      <th>Low</th>\n",
       "      <th>Open</th>\n",
       "      <th>Volume</th>\n",
       "      <th>compound</th>\n",
       "      <th>neg</th>\n",
       "      <th>neu</th>\n",
       "      <th>pos</th>\n",
       "      <th>Next_Close</th>\n",
       "      <th>Next_Open</th>\n",
       "      <th>Prev_Close</th>\n",
       "    </tr>\n",
       "  </thead>\n",
       "  <tbody>\n",
       "    <tr>\n",
       "      <th>0</th>\n",
       "      <td>2014-01-02</td>\n",
       "      <td>AEE</td>\n",
       "      <td>35.53</td>\n",
       "      <td>36.11</td>\n",
       "      <td>35.47</td>\n",
       "      <td>36.05</td>\n",
       "      <td>1394264.0</td>\n",
       "      <td>NaN</td>\n",
       "      <td>NaN</td>\n",
       "      <td>NaN</td>\n",
       "      <td>NaN</td>\n",
       "      <td>35.40</td>\n",
       "      <td>35.63</td>\n",
       "      <td>NaN</td>\n",
       "    </tr>\n",
       "    <tr>\n",
       "      <th>1</th>\n",
       "      <td>2014-01-03</td>\n",
       "      <td>AEE</td>\n",
       "      <td>35.40</td>\n",
       "      <td>35.69</td>\n",
       "      <td>35.22</td>\n",
       "      <td>35.63</td>\n",
       "      <td>1206534.0</td>\n",
       "      <td>NaN</td>\n",
       "      <td>NaN</td>\n",
       "      <td>NaN</td>\n",
       "      <td>NaN</td>\n",
       "      <td>35.76</td>\n",
       "      <td>35.70</td>\n",
       "      <td>35.53</td>\n",
       "    </tr>\n",
       "    <tr>\n",
       "      <th>2</th>\n",
       "      <td>2014-01-06</td>\n",
       "      <td>AEE</td>\n",
       "      <td>35.76</td>\n",
       "      <td>35.82</td>\n",
       "      <td>35.42</td>\n",
       "      <td>35.70</td>\n",
       "      <td>2837469.0</td>\n",
       "      <td>NaN</td>\n",
       "      <td>NaN</td>\n",
       "      <td>NaN</td>\n",
       "      <td>NaN</td>\n",
       "      <td>36.22</td>\n",
       "      <td>35.81</td>\n",
       "      <td>35.40</td>\n",
       "    </tr>\n",
       "    <tr>\n",
       "      <th>3</th>\n",
       "      <td>2014-01-07</td>\n",
       "      <td>AEE</td>\n",
       "      <td>36.22</td>\n",
       "      <td>36.25</td>\n",
       "      <td>35.81</td>\n",
       "      <td>35.81</td>\n",
       "      <td>1653721.0</td>\n",
       "      <td>NaN</td>\n",
       "      <td>NaN</td>\n",
       "      <td>NaN</td>\n",
       "      <td>NaN</td>\n",
       "      <td>35.94</td>\n",
       "      <td>36.14</td>\n",
       "      <td>35.76</td>\n",
       "    </tr>\n",
       "    <tr>\n",
       "      <th>4</th>\n",
       "      <td>2014-01-08</td>\n",
       "      <td>AEE</td>\n",
       "      <td>35.94</td>\n",
       "      <td>36.19</td>\n",
       "      <td>35.80</td>\n",
       "      <td>36.14</td>\n",
       "      <td>1618538.0</td>\n",
       "      <td>NaN</td>\n",
       "      <td>NaN</td>\n",
       "      <td>NaN</td>\n",
       "      <td>NaN</td>\n",
       "      <td>36.04</td>\n",
       "      <td>36.02</td>\n",
       "      <td>36.22</td>\n",
       "    </tr>\n",
       "  </tbody>\n",
       "</table>\n",
       "</div>"
      ],
      "text/plain": [
       "        Date Symbol  Close   High    Low   Open     Volume  compound  neg  \\\n",
       "0 2014-01-02    AEE  35.53  36.11  35.47  36.05  1394264.0       NaN  NaN   \n",
       "1 2014-01-03    AEE  35.40  35.69  35.22  35.63  1206534.0       NaN  NaN   \n",
       "2 2014-01-06    AEE  35.76  35.82  35.42  35.70  2837469.0       NaN  NaN   \n",
       "3 2014-01-07    AEE  36.22  36.25  35.81  35.81  1653721.0       NaN  NaN   \n",
       "4 2014-01-08    AEE  35.94  36.19  35.80  36.14  1618538.0       NaN  NaN   \n",
       "\n",
       "   neu  pos  Next_Close  Next_Open  Prev_Close  \n",
       "0  NaN  NaN       35.40      35.63         NaN  \n",
       "1  NaN  NaN       35.76      35.70       35.53  \n",
       "2  NaN  NaN       36.22      35.81       35.40  \n",
       "3  NaN  NaN       35.94      36.14       35.76  \n",
       "4  NaN  NaN       36.04      36.02       36.22  "
      ]
     },
     "execution_count": 29,
     "metadata": {},
     "output_type": "execute_result"
    }
   ],
   "source": [
    "quotes_articles['Next_Close'] = quotes_articles['Close'].shift(-1) # used fo calculating next day's slope\n",
    "quotes_articles['Next_Open'] = quotes_articles['Open'].shift(-1)   # for some possible prediction\n",
    "quotes_articles['Prev_Close'] = quotes_articles['Close'].shift(1)  # used fo calculating previous day's slope\n",
    "quotes_articles.head()"
   ]
  },
  {
   "cell_type": "code",
   "execution_count": 31,
   "metadata": {
    "collapsed": false,
    "scrolled": true
   },
   "outputs": [
    {
     "data": {
      "text/html": [
       "<div>\n",
       "<table border=\"1\" class=\"dataframe\">\n",
       "  <thead>\n",
       "    <tr style=\"text-align: right;\">\n",
       "      <th></th>\n",
       "      <th>Date</th>\n",
       "      <th>Symbol</th>\n",
       "      <th>Close</th>\n",
       "      <th>High</th>\n",
       "      <th>Low</th>\n",
       "      <th>Open</th>\n",
       "      <th>Volume</th>\n",
       "      <th>compound</th>\n",
       "      <th>neg</th>\n",
       "      <th>neu</th>\n",
       "      <th>pos</th>\n",
       "      <th>Next_Close</th>\n",
       "      <th>Next_Open</th>\n",
       "      <th>Prev_Close</th>\n",
       "    </tr>\n",
       "  </thead>\n",
       "  <tbody>\n",
       "    <tr>\n",
       "      <th>0</th>\n",
       "      <td>2014-01-02</td>\n",
       "      <td>AEE</td>\n",
       "      <td>35.53</td>\n",
       "      <td>36.11</td>\n",
       "      <td>35.47</td>\n",
       "      <td>36.05</td>\n",
       "      <td>1394264.0</td>\n",
       "      <td>NaN</td>\n",
       "      <td>NaN</td>\n",
       "      <td>NaN</td>\n",
       "      <td>NaN</td>\n",
       "      <td>35.40</td>\n",
       "      <td>35.63</td>\n",
       "      <td>NaN</td>\n",
       "    </tr>\n",
       "    <tr>\n",
       "      <th>1</th>\n",
       "      <td>2014-01-03</td>\n",
       "      <td>AEE</td>\n",
       "      <td>35.40</td>\n",
       "      <td>35.69</td>\n",
       "      <td>35.22</td>\n",
       "      <td>35.63</td>\n",
       "      <td>1206534.0</td>\n",
       "      <td>NaN</td>\n",
       "      <td>NaN</td>\n",
       "      <td>NaN</td>\n",
       "      <td>NaN</td>\n",
       "      <td>35.76</td>\n",
       "      <td>35.70</td>\n",
       "      <td>35.53</td>\n",
       "    </tr>\n",
       "    <tr>\n",
       "      <th>2</th>\n",
       "      <td>2014-01-06</td>\n",
       "      <td>AEE</td>\n",
       "      <td>35.76</td>\n",
       "      <td>35.82</td>\n",
       "      <td>35.42</td>\n",
       "      <td>35.70</td>\n",
       "      <td>2837469.0</td>\n",
       "      <td>NaN</td>\n",
       "      <td>NaN</td>\n",
       "      <td>NaN</td>\n",
       "      <td>NaN</td>\n",
       "      <td>36.22</td>\n",
       "      <td>35.81</td>\n",
       "      <td>35.40</td>\n",
       "    </tr>\n",
       "    <tr>\n",
       "      <th>3</th>\n",
       "      <td>2014-01-07</td>\n",
       "      <td>AEE</td>\n",
       "      <td>36.22</td>\n",
       "      <td>36.25</td>\n",
       "      <td>35.81</td>\n",
       "      <td>35.81</td>\n",
       "      <td>1653721.0</td>\n",
       "      <td>NaN</td>\n",
       "      <td>NaN</td>\n",
       "      <td>NaN</td>\n",
       "      <td>NaN</td>\n",
       "      <td>35.94</td>\n",
       "      <td>36.14</td>\n",
       "      <td>35.76</td>\n",
       "    </tr>\n",
       "    <tr>\n",
       "      <th>4</th>\n",
       "      <td>2014-01-08</td>\n",
       "      <td>AEE</td>\n",
       "      <td>35.94</td>\n",
       "      <td>36.19</td>\n",
       "      <td>35.80</td>\n",
       "      <td>36.14</td>\n",
       "      <td>1618538.0</td>\n",
       "      <td>NaN</td>\n",
       "      <td>NaN</td>\n",
       "      <td>NaN</td>\n",
       "      <td>NaN</td>\n",
       "      <td>36.04</td>\n",
       "      <td>36.02</td>\n",
       "      <td>36.22</td>\n",
       "    </tr>\n",
       "  </tbody>\n",
       "</table>\n",
       "</div>"
      ],
      "text/plain": [
       "        Date Symbol  Close   High    Low   Open     Volume  compound  neg  \\\n",
       "0 2014-01-02    AEE  35.53  36.11  35.47  36.05  1394264.0       NaN  NaN   \n",
       "1 2014-01-03    AEE  35.40  35.69  35.22  35.63  1206534.0       NaN  NaN   \n",
       "2 2014-01-06    AEE  35.76  35.82  35.42  35.70  2837469.0       NaN  NaN   \n",
       "3 2014-01-07    AEE  36.22  36.25  35.81  35.81  1653721.0       NaN  NaN   \n",
       "4 2014-01-08    AEE  35.94  36.19  35.80  36.14  1618538.0       NaN  NaN   \n",
       "\n",
       "   neu  pos  Next_Close  Next_Open  Prev_Close  \n",
       "0  NaN  NaN       35.40      35.63         NaN  \n",
       "1  NaN  NaN       35.76      35.70       35.53  \n",
       "2  NaN  NaN       36.22      35.81       35.40  \n",
       "3  NaN  NaN       35.94      36.14       35.76  \n",
       "4  NaN  NaN       36.04      36.02       36.22  "
      ]
     },
     "execution_count": 31,
     "metadata": {},
     "output_type": "execute_result"
    }
   ],
   "source": [
    "# Since we did shift on the whole document we need to change first and last quote for each symbol\n",
    "for symbol in quotes_articles['Symbol'].unique():\n",
    "    min_date = quotes_articles[(quotes_articles['Symbol'] == symbol)].Date.min()\n",
    "    max_date = quotes_articles[(quotes_articles['Symbol'] == symbol)].Date.max()\n",
    "    quotes_articles.Prev_Close[(quotes_articles['Symbol'] == symbol) & (quotes_articles['Date'] == min_date)] = None\n",
    "    quotes_articles.Prev_Close[(quotes_articles['Symbol'] == symbol) & (quotes_articles['Date'] == max_date)] = None\n",
    "quotes_articles.head()"
   ]
  },
  {
   "cell_type": "code",
   "execution_count": 32,
   "metadata": {
    "collapsed": true
   },
   "outputs": [],
   "source": [
    "calculate_slopes = lambda x: pd.Series([\n",
    "        x['Close'] - x['Prev_Close'],\n",
    "        x['Next_Close'] - x['Close'],\n",
    "        (x['Next_Close'] - x['Close']) - (x['Close'] - x['Prev_Close']),\n",
    "    ])"
   ]
  },
  {
   "cell_type": "code",
   "execution_count": 34,
   "metadata": {
    "collapsed": false,
    "scrolled": true
   },
   "outputs": [],
   "source": [
    "tmp = quotes_articles.apply(calculate_slopes, axis=1)\n",
    "tmp.columns = ['Prev_Slope', 'Next_Slope', 'Diff_Slope']\n",
    "quotes_articles = pd.concat([quotes_articles, tmp], axis=1)"
   ]
  },
  {
   "cell_type": "code",
   "execution_count": 37,
   "metadata": {
    "collapsed": false
   },
   "outputs": [
    {
     "data": {
      "text/html": [
       "<div>\n",
       "<table border=\"1\" class=\"dataframe\">\n",
       "  <thead>\n",
       "    <tr style=\"text-align: right;\">\n",
       "      <th></th>\n",
       "      <th>Date</th>\n",
       "      <th>Symbol</th>\n",
       "      <th>Close</th>\n",
       "      <th>High</th>\n",
       "      <th>Low</th>\n",
       "      <th>Open</th>\n",
       "      <th>Volume</th>\n",
       "      <th>compound</th>\n",
       "      <th>neg</th>\n",
       "      <th>neu</th>\n",
       "      <th>pos</th>\n",
       "      <th>Next_Close</th>\n",
       "      <th>Next_Open</th>\n",
       "      <th>Prev_Close</th>\n",
       "      <th>Prev_Slope</th>\n",
       "      <th>Next_Slope</th>\n",
       "      <th>Diff_Slope</th>\n",
       "    </tr>\n",
       "  </thead>\n",
       "  <tbody>\n",
       "    <tr>\n",
       "      <th>355</th>\n",
       "      <td>2015-06-02</td>\n",
       "      <td>AEE</td>\n",
       "      <td>39.62</td>\n",
       "      <td>40.01</td>\n",
       "      <td>39.26</td>\n",
       "      <td>40.00</td>\n",
       "      <td>1481676.0</td>\n",
       "      <td>-0.033950</td>\n",
       "      <td>0.0545</td>\n",
       "      <td>0.924000</td>\n",
       "      <td>0.021500</td>\n",
       "      <td>39.31</td>\n",
       "      <td>39.51</td>\n",
       "      <td>40.22</td>\n",
       "      <td>-0.60</td>\n",
       "      <td>-0.31</td>\n",
       "      <td>0.29</td>\n",
       "    </tr>\n",
       "    <tr>\n",
       "      <th>390</th>\n",
       "      <td>2015-07-22</td>\n",
       "      <td>AEE</td>\n",
       "      <td>38.66</td>\n",
       "      <td>39.04</td>\n",
       "      <td>38.61</td>\n",
       "      <td>38.73</td>\n",
       "      <td>1354719.0</td>\n",
       "      <td>-0.979000</td>\n",
       "      <td>0.0910</td>\n",
       "      <td>0.892000</td>\n",
       "      <td>0.017000</td>\n",
       "      <td>38.27</td>\n",
       "      <td>38.55</td>\n",
       "      <td>38.70</td>\n",
       "      <td>-0.04</td>\n",
       "      <td>-0.39</td>\n",
       "      <td>-0.35</td>\n",
       "    </tr>\n",
       "    <tr>\n",
       "      <th>432</th>\n",
       "      <td>2015-09-21</td>\n",
       "      <td>AEE</td>\n",
       "      <td>40.82</td>\n",
       "      <td>41.06</td>\n",
       "      <td>40.39</td>\n",
       "      <td>40.52</td>\n",
       "      <td>1704133.0</td>\n",
       "      <td>-0.599400</td>\n",
       "      <td>0.0580</td>\n",
       "      <td>0.919000</td>\n",
       "      <td>0.024000</td>\n",
       "      <td>40.50</td>\n",
       "      <td>40.52</td>\n",
       "      <td>40.37</td>\n",
       "      <td>0.45</td>\n",
       "      <td>-0.32</td>\n",
       "      <td>-0.77</td>\n",
       "    </tr>\n",
       "    <tr>\n",
       "      <th>570</th>\n",
       "      <td>2016-04-08</td>\n",
       "      <td>AEE</td>\n",
       "      <td>48.78</td>\n",
       "      <td>51.00</td>\n",
       "      <td>48.70</td>\n",
       "      <td>49.40</td>\n",
       "      <td>4807348.0</td>\n",
       "      <td>0.839033</td>\n",
       "      <td>0.0000</td>\n",
       "      <td>0.872333</td>\n",
       "      <td>0.127667</td>\n",
       "      <td>48.68</td>\n",
       "      <td>48.86</td>\n",
       "      <td>49.16</td>\n",
       "      <td>-0.38</td>\n",
       "      <td>-0.10</td>\n",
       "      <td>0.28</td>\n",
       "    </tr>\n",
       "    <tr>\n",
       "      <th>592</th>\n",
       "      <td>2016-05-10</td>\n",
       "      <td>AEE</td>\n",
       "      <td>48.66</td>\n",
       "      <td>48.86</td>\n",
       "      <td>48.40</td>\n",
       "      <td>48.52</td>\n",
       "      <td>1366599.0</td>\n",
       "      <td>0.778300</td>\n",
       "      <td>0.0000</td>\n",
       "      <td>0.833000</td>\n",
       "      <td>0.167000</td>\n",
       "      <td>48.15</td>\n",
       "      <td>48.63</td>\n",
       "      <td>48.43</td>\n",
       "      <td>0.23</td>\n",
       "      <td>-0.51</td>\n",
       "      <td>-0.74</td>\n",
       "    </tr>\n",
       "  </tbody>\n",
       "</table>\n",
       "</div>"
      ],
      "text/plain": [
       "          Date Symbol  Close   High    Low   Open     Volume  compound  \\\n",
       "355 2015-06-02    AEE  39.62  40.01  39.26  40.00  1481676.0 -0.033950   \n",
       "390 2015-07-22    AEE  38.66  39.04  38.61  38.73  1354719.0 -0.979000   \n",
       "432 2015-09-21    AEE  40.82  41.06  40.39  40.52  1704133.0 -0.599400   \n",
       "570 2016-04-08    AEE  48.78  51.00  48.70  49.40  4807348.0  0.839033   \n",
       "592 2016-05-10    AEE  48.66  48.86  48.40  48.52  1366599.0  0.778300   \n",
       "\n",
       "        neg       neu       pos  Next_Close  Next_Open  Prev_Close  \\\n",
       "355  0.0545  0.924000  0.021500       39.31      39.51       40.22   \n",
       "390  0.0910  0.892000  0.017000       38.27      38.55       38.70   \n",
       "432  0.0580  0.919000  0.024000       40.50      40.52       40.37   \n",
       "570  0.0000  0.872333  0.127667       48.68      48.86       49.16   \n",
       "592  0.0000  0.833000  0.167000       48.15      48.63       48.43   \n",
       "\n",
       "     Prev_Slope  Next_Slope  Diff_Slope  \n",
       "355       -0.60       -0.31        0.29  \n",
       "390       -0.04       -0.39       -0.35  \n",
       "432        0.45       -0.32       -0.77  \n",
       "570       -0.38       -0.10        0.28  \n",
       "592        0.23       -0.51       -0.74  "
      ]
     },
     "execution_count": 37,
     "metadata": {},
     "output_type": "execute_result"
    }
   ],
   "source": [
    "# simple select for quotes with articles\n",
    "has_news = quotes_articles[(quotes_articles['compound'].notnull())]\n",
    "has_news = has_news.dropna()\n",
    "has_news.head()"
   ]
  },
  {
   "cell_type": "code",
   "execution_count": null,
   "metadata": {
    "collapsed": true
   },
   "outputs": [],
   "source": []
  },
  {
   "cell_type": "code",
   "execution_count": 38,
   "metadata": {
    "collapsed": false
   },
   "outputs": [
    {
     "data": {
      "text/plain": [
       "<matplotlib.axes._subplots.AxesSubplot at 0x7f128b55b7d0>"
      ]
     },
     "execution_count": 38,
     "metadata": {},
     "output_type": "execute_result"
    },
    {
     "data": {
      "image/png": "[encoded data removed]",
      "text/plain": [
       "<matplotlib.figure.Figure at 0x7f12aaa6a9d0>"
      ]
     },
     "metadata": {},
     "output_type": "display_data"
    }
   ],
   "source": [
    "plt.figure(figsize=(25,15))\n",
    "sns.heatmap(\n",
    "    has_news[['Close', 'High', 'Low', 'Open', 'Volume',\n",
    "              'compound', 'neg', 'neu', 'pos', 'Next_Open',\n",
    "              'Prev_Slope', 'Diff_Slope']].corr(),\n",
    "    vmax=.3,\n",
    "    square=True, \n",
    "    linewidths=.5,\n",
    "    cbar_kws={\"shrink\": .5})"
   ]
  },
  {
   "cell_type": "code",
   "execution_count": 39,
   "metadata": {
    "collapsed": true
   },
   "outputs": [],
   "source": [
    "x = has_news[['Close', 'High', 'Low', 'Open', 'Volume', 'compound',\n",
    "              'neg', 'neu', 'pos', 'Next_Open', 'Prev_Slope']]\n",
    "y = has_news['Diff_Slope']\n",
    "x_train, x_test, y_train, y_test=train_test_split(x, y, test_size=0.3)"
   ]
  },
  {
   "cell_type": "markdown",
   "metadata": {
    "collapsed": true
   },
   "source": [
    "# Modeling"
   ]
  },
  {
   "cell_type": "code",
   "execution_count": 85,
   "metadata": {
    "collapsed": true
   },
   "outputs": [],
   "source": [
    "def CV(target):\n",
    "    return StratifiedKFold(target, n_folds=3,\n",
    "                           shuffle=True, random_state=41)\n",
    "\n",
    "\n",
    "def grid_search(model, params, cv):\n",
    "    return GridSearchCV(estimator=model, \n",
    "                    param_grid=params,\n",
    "                    cv=cv\n",
    "                   )\n",
    "\n",
    "def regression_results(model, x_true, y_true, y_pred):\n",
    "    ret = (\"Explained variance regression score:  {}\\n\".format(\n",
    "            explained_variance_score(y_true, y_pred, multioutput='uniform_average')))\n",
    "    ret += (\"Mean Absolute Error:                  {}\\n\".format(\n",
    "            mean_absolute_error(y_true, y_pred)))\n",
    "    ret += (\"Model socre is:                       {}\\n\".format(\n",
    "            model.score(x_true, y_true)))\n",
    "    return ret\n",
    "\n",
    "\n",
    "def draw_feature_importance(model, data):\n",
    "    importances = model.feature_importances_\n",
    "    std = np.std([tree.feature_importances_ for tree in model.estimators_], axis=0)\n",
    "    indices = np.argsort(importances)[::-1]\n",
    "    feature_names = data.columns\n",
    "    # Plot the feature importances of the model\n",
    "    plt.figure(figsize=(20,15))\n",
    "    plt.title(\"Feature importances\")\n",
    "    plt.bar(range(data.shape[1]), importances[indices],\n",
    "            color=\"r\", yerr=std[indices], align=\"center\")\n",
    "    plt.xticks(range(data.shape[1]), feature_names[indices], rotation=90)\n",
    "    plt.xlim([-1, data.shape[1]])\n",
    "    return plt\n",
    "\n",
    "\n",
    "def model_test_metrics(model, data, target):\n",
    "    ret = \"Test Data score: \", model.fit(data, target).score(data, target)\n",
    "    return ret + regression_results(target, model.predict(data))\n",
    "\n",
    "\n",
    "def evaluate_model(model, data, target, params=None, draw_features=True, verbose=True):\n",
    "    train_data, test_data, train_target, test_target=train_test_split(data, target)\n",
    "    cv=CV(train_target)\n",
    "    ret = \"\"\n",
    "    if params:\n",
    "        grid=grid_search(model, params, cv)\n",
    "    \n",
    "        grid.fit(train_data, train_target)\n",
    "        model = grid.best_estimator_\n",
    "        ret += (\"Best Model after Grid Search:\\n{}\\n\\n\").format(model)        \n",
    "    else:\n",
    "        model.fit(train_data, train_target)\n",
    "        \n",
    "    s=cross_val_score(model, train_data, train_target, cv=cv, n_jobs=-1)\n",
    "    if verbose:\n",
    "        ret += (\"Mean score of the model is:           {}\\n\").format(s.mean())\n",
    "        predictions = model.predict(test_data)\n",
    "        ret += regression_results(model, test_data, test_target, predictions)\n",
    "\n",
    "    if draw_features:\n",
    "        draw_feature_importance(model, train_data)\n",
    "    return model, ret"
   ]
  },
  {
   "cell_type": "code",
   "execution_count": null,
   "metadata": {
    "collapsed": true
   },
   "outputs": [],
   "source": [
    "# Save Model Using joblib\n",
    "import pandas\n",
    "from sklearn import cross_validation\n",
    "from sklearn.linear_model import LogisticRegression\n",
    "from sklearn.externals import joblib\n",
    "url = \"https://archive.ics.uci.edu/ml/machine-learning-databases/pima-indians-diabetes/pima-indians-diabetes.data\"\n",
    "names = ['preg', 'plas', 'pres', 'skin', 'test', 'mass', 'pedi', 'age', 'class']\n",
    "dataframe = pandas.read_csv(url, names=names)\n",
    "array = dataframe.values\n",
    "X = array[:,0:8]\n",
    "Y = array[:,8]\n",
    "test_size = 0.33\n",
    "seed = 7\n",
    "X_train, X_test, Y_train, Y_test = cross_validation.train_test_split(X, Y, test_size=test_size, random_state=seed)\n",
    "# Fit the model on 33%\n",
    "model = LogisticRegression()\n",
    "model.fit(X_train, Y_train)\n",
    "# save the model to disk\n",
    "filename = 'finalized_model.sav'\n",
    "joblib.dump(model, filename)\n",
    "\n",
    "# some time later...\n",
    "\n",
    "# load the model from disk\n",
    "loaded_model = joblib.load(filename)\n",
    "result = loaded_model.score(X_test, Y_test)\n",
    "print(result)"
   ]
  },
  {
   "cell_type": "code",
   "execution_count": 86,
   "metadata": {
    "collapsed": false
   },
   "outputs": [],
   "source": [
    "params = {\n",
    "    'fit_intercept': [False, True],\n",
    "    'normalize':     [False, True]\n",
    "}\n",
    "lr, lr_report = evaluate_model(LinearRegression(n_jobs=-1), x_train, y_train, draw_features=False, params=params)"
   ]
  },
  {
   "cell_type": "code",
   "execution_count": 87,
   "metadata": {
    "collapsed": false
   },
   "outputs": [
    {
     "name": "stdout",
     "output_type": "stream",
     "text": [
      "Best Model after Grid Search:\n",
      "LinearRegression(copy_X=True, fit_intercept=True, n_jobs=-1, normalize=False)\n",
      "\n",
      "Mean score of the model is:           0.9025159296\n",
      "Explained variance regression score:  0.917485874628\n",
      "Mean Absolute Error:                  1.18103091649\n",
      "Model socre is:                       0.917471862106\n",
      "\n"
     ]
    }
   ],
   "source": [
    "print lr_report"
   ]
  },
  {
   "cell_type": "code",
   "execution_count": 89,
   "metadata": {
    "collapsed": false
   },
   "outputs": [],
   "source": [
    "params = {\n",
    "    'fit_intercept': [False, True],\n",
    "    'normalize':     [False, True],\n",
    "    'gcv_mode': [None, 'svd', 'eigen'] \n",
    "}\n",
    "rd, rd_report = evaluate_model(RidgeCV(), x_train, y_train, draw_features=False, params=params)"
   ]
  },
  {
   "cell_type": "code",
   "execution_count": 90,
   "metadata": {
    "collapsed": false
   },
   "outputs": [
    {
     "name": "stdout",
     "output_type": "stream",
     "text": [
      "Best Model after Grid Search:\n",
      "RidgeCV(alphas=(0.1, 1.0, 10.0), cv=None, fit_intercept=True, gcv_mode=None,\n",
      "    normalize=True, scoring=None, store_cv_values=False)\n",
      "\n",
      "Mean score of the model is:           0.502734113842\n",
      "Explained variance regression score:  0.871160803289\n",
      "Mean Absolute Error:                  1.52594170452\n",
      "Model socre is:                       0.871056158047\n",
      "\n"
     ]
    }
   ],
   "source": [
    "print rd_report"
   ]
  },
  {
   "cell_type": "code",
   "execution_count": 91,
   "metadata": {
    "collapsed": true
   },
   "outputs": [],
   "source": []
  },
  {
   "cell_type": "code",
   "execution_count": 94,
   "metadata": {
    "collapsed": true
   },
   "outputs": [],
   "source": [
    "# joblib.dump(model, filename)\n",
    "# joblib.load(filename)"
   ]
  },
  {
   "cell_type": "code",
   "execution_count": 97,
   "metadata": {
    "collapsed": false
   },
   "outputs": [
    {
     "data": {
      "text/plain": [
       "array(['Industrials', 'Health Care', 'Information Technology',\n",
       "       'Consumer Discretionary', 'Utilities', 'Financials', 'Materials',\n",
       "       'Consumer Staples', 'Real Estate', 'Energy',\n",
       "       'Telecommunications Services'], dtype=object)"
      ]
     },
     "execution_count": 97,
     "metadata": {},
     "output_type": "execute_result"
    }
   ],
   "source": [
    "sectors = companies['GICS_Sector'].unique()\n",
    "sectors"
   ]
  },
  {
   "cell_type": "code",
   "execution_count": 104,
   "metadata": {
    "collapsed": true
   },
   "outputs": [],
   "source": [
    "sector_companies = {}\n",
    "for sector in sectors:\n",
    "    sector_companies[sector] = list(companies[(companies['GICS_Sector'] == sector)].Ticker_symbol)"
   ]
  },
  {
   "cell_type": "code",
   "execution_count": 103,
   "metadata": {
    "collapsed": false
   },
   "outputs": [
    {
     "data": {
      "text/plain": [
       "['ABT',\n",
       " 'ABBV',\n",
       " 'AET',\n",
       " 'A',\n",
       " 'AGN',\n",
       " 'ALXN',\n",
       " 'ABC',\n",
       " 'AMGN',\n",
       " 'ANTM',\n",
       " 'BCR',\n",
       " 'BAX',\n",
       " 'BDX',\n",
       " 'BIIB',\n",
       " 'BSX',\n",
       " 'BMY',\n",
       " 'CAH',\n",
       " 'HSIC',\n",
       " 'CELG',\n",
       " 'CNC',\n",
       " 'CERN',\n",
       " 'CI',\n",
       " 'DVA',\n",
       " 'XRAY',\n",
       " 'EW',\n",
       " 'ENDP',\n",
       " 'ESRX',\n",
       " 'GILD',\n",
       " 'HCA',\n",
       " 'HOLX',\n",
       " 'HUM',\n",
       " 'ILMN',\n",
       " 'ISRG',\n",
       " 'JNJ',\n",
       " 'LH',\n",
       " 'LLY',\n",
       " 'MNK',\n",
       " 'MCK',\n",
       " 'MDT',\n",
       " 'MRK',\n",
       " 'MTD',\n",
       " 'MYL',\n",
       " 'PDCO',\n",
       " 'PKI',\n",
       " 'PRGO',\n",
       " 'PFE',\n",
       " 'DGX',\n",
       " 'REGN',\n",
       " 'STJ',\n",
       " 'SYK',\n",
       " 'COO',\n",
       " 'TMO',\n",
       " 'UNH',\n",
       " 'UHS',\n",
       " 'VAR',\n",
       " 'VRTX',\n",
       " 'WAT',\n",
       " 'ZBH',\n",
       " 'ZTS']"
      ]
     },
     "execution_count": 103,
     "metadata": {},
     "output_type": "execute_result"
    }
   ],
   "source": [
    "a = list(companies[(companies['GICS_Sector'] == 'Health Care')].Ticker_symbol)\n",
    "a"
   ]
  },
  {
   "cell_type": "code",
   "execution_count": null,
   "metadata": {
    "collapsed": true
   },
   "outputs": [],
   "source": []
  },
  {
   "cell_type": "code",
   "execution_count": null,
   "metadata": {
    "collapsed": true
   },
   "outputs": [],
   "source": []
  },
  {
   "cell_type": "code",
   "execution_count": 43,
   "metadata": {
    "collapsed": false,
    "scrolled": false
   },
   "outputs": [
    {
     "name": "stderr",
     "output_type": "stream",
     "text": [
      "/home/ali/Anaconda/lib/python2.7/site-packages/sklearn/cross_validation.py:552: Warning: The least populated class in y has only 1 members, which is too few. The minimum number of labels for any class cannot be less than n_folds=3.\n",
      "  % (min_labels, self.n_folds)), Warning)\n"
     ]
    },
    {
     "name": "stdout",
     "output_type": "stream",
     "text": [
      "Mean score of the model is:           0.901907393802\n",
      "('Explained variance regression score: ', 0.71782990316049999)\n",
      "('Mean Absolute Error:                 ', 1.2544589395305525)\n",
      "('Model socre is:                      ', 0.71781001237326469)\n"
     ]
    }
   ],
   "source": [
    "lr = evaluate_model(LinearRegression(n_jobs=-1), x_train, y_train, draw_features=False)"
   ]
  },
  {
   "cell_type": "code",
   "execution_count": null,
   "metadata": {
    "collapsed": true
   },
   "outputs": [],
   "source": []
  },
  {
   "cell_type": "code",
   "execution_count": null,
   "metadata": {
    "collapsed": false
   },
   "outputs": [],
   "source": [
    "# def get_cv(target):\n",
    "#     return StratifiedKFold(target, n_folds=3, shuffle=True, random_state=41)\n",
    "\n",
    "# def score(model, data, target):\n",
    "#     model.fit(data, target)\n",
    "#     return model.score(data, target)\n",
    "\n",
    "# def grid_search(model, params, cv):\n",
    "#     return GridSearchCV(estimator=model, \n",
    "#                     param_grid=params,\n",
    "#                     cv=cv\n",
    "#                    )\n",
    "\n",
    "# def check_regression_results(model, x_true, y_true, y_pred):\n",
    "#     print \"Explained variance regression score: \", explained_variance_score(y_true, y_pred, multioutput='uniform_average')\n",
    "#     print \"Mean Absolute Error:                 \", mean_absolute_error(y_true, y_pred)\n",
    "#     print \"Model socre is:                      \", model.score(x_true, y_pred)\n",
    "\n",
    "# def draw_feature_importance(model, data):\n",
    "#     importances = model.feature_importances_\n",
    "#     std = np.std([tree.feature_importances_ for tree in model.estimators_], axis=0)\n",
    "#     indices = np.argsort(importances)[::-1]\n",
    "#     feature_names = data.columns\n",
    "#     # Plot the feature importances of the model\n",
    "#     plt.figure(figsize=(20,15))\n",
    "#     plt.title(\"Feature importances\")\n",
    "#     plt.bar(range(data.shape[1]), importances[indices],\n",
    "#             color=\"r\", yerr=std[indices], align=\"center\")\n",
    "#     plt.xticks(range(data.shape[1]), feature_names[indices], rotation=90)\n",
    "#     plt.xlim([-1, data.shape[1]])\n",
    "#     plt.show()\n",
    "\n",
    "# def model_test_metrics(model, data, target):\n",
    "#     print \"Test Data score: \", model.fit(data, target).score(data, target)\n",
    "#     check_regression_results(target, model.predict(data))\n",
    "\n",
    "# def evaluate_model(model, data, target, params=None, draw_features=True, verbose=True):\n",
    "#     train_data, test_data, train_target, test_target=train_test_split(data, target)\n",
    "#     cv=get_cv(train_target)\n",
    "#     if params:\n",
    "#         grid=grid_search(model, params, cv)\n",
    "    \n",
    "#         grid.fit(train_data, train_target)\n",
    "#         model = grid.best_estimator_\n",
    "#         if verbose:\n",
    "#             print \"Best Model after Grid Search:\\n\", model\n",
    "        \n",
    "#     else:\n",
    "#         model.fit(train_data, train_target)\n",
    "        \n",
    "#     s=cross_val_score(model, train_data, train_target, cv=cv, n_jobs=-1)\n",
    "#     if verbose:\n",
    "#         print \"Mean score of the model is:          \", str(s.mean())\n",
    "#         predictions = model.predict(test_data)\n",
    "#         check_regression_results(model, test_data, test_target, predictions)\n",
    "\n",
    "#     if draw_features:\n",
    "#         draw_feature_importance(model, train_data)\n",
    "#     return model"
   ]
  },
  {
   "cell_type": "code",
   "execution_count": null,
   "metadata": {
    "collapsed": false
   },
   "outputs": [],
   "source": []
  },
  {
   "cell_type": "code",
   "execution_count": null,
   "metadata": {
    "collapsed": false
   },
   "outputs": [],
   "source": []
  },
  {
   "cell_type": "code",
   "execution_count": null,
   "metadata": {
    "collapsed": false
   },
   "outputs": [],
   "source": []
  },
  {
   "cell_type": "code",
   "execution_count": null,
   "metadata": {
    "collapsed": true
   },
   "outputs": [],
   "source": []
  },
  {
   "cell_type": "code",
   "execution_count": null,
   "metadata": {
    "collapsed": false
   },
   "outputs": [],
   "source": []
  },
  {
   "cell_type": "code",
   "execution_count": null,
   "metadata": {
    "collapsed": false
   },
   "outputs": [],
   "source": [
    "# params = {\n",
    "#     'n_estimators': [10, 20, 50, 100, 200],\n",
    "#     'max_depth': [None,1, 2, 3, 4, 5],\n",
    "#     'min_samples_split': [2, 10, 25, 50, 100],\n",
    "# #     'min_samples_leaf': [1, 2, 3, 4, 5, 10]\n",
    "# }\n",
    "\n",
    "# %time lr = evaluate_model(LinearRegression(n_jobs=-1), x_train, y_train, draw_features=False)\n",
    "lr = evaluate_model(LinearRegression(n_jobs=-1), x_train, y_train, draw_features=False)"
   ]
  },
  {
   "cell_type": "code",
   "execution_count": null,
   "metadata": {
    "collapsed": false
   },
   "outputs": [],
   "source": [
    "lr_predictions = lr.predict(x_test)\n",
    "lr.score(x_test, y_test)"
   ]
  },
  {
   "cell_type": "code",
   "execution_count": null,
   "metadata": {
    "collapsed": false
   },
   "outputs": [],
   "source": [
    "fig, ax = plt.subplots()\n",
    "ax.scatter(y_test, lr_predictions)\n",
    "ax.plot([lr_predictions.min(), lr_predictions.max()], [lr_predictions.min(), lr_predictions.max()], 'k--', lw=2)\n",
    "ax.set_xlabel('Measured')\n",
    "ax.set_ylabel('Predicted')\n",
    "plt.figure(figsize=(1,1))\n",
    "plt.show()"
   ]
  },
  {
   "cell_type": "code",
   "execution_count": null,
   "metadata": {
    "collapsed": false
   },
   "outputs": [],
   "source": [
    "%time dt=evaluate_model(DecisionTreeRegressor(), x_train, y_train, draw_features=False)"
   ]
  },
  {
   "cell_type": "code",
   "execution_count": null,
   "metadata": {
    "collapsed": false
   },
   "outputs": [],
   "source": [
    "dt_predictions = dt.predict(x_test)\n",
    "dt.score(x_test, y_test)"
   ]
  },
  {
   "cell_type": "code",
   "execution_count": null,
   "metadata": {
    "collapsed": false,
    "scrolled": true
   },
   "outputs": [],
   "source": [
    "fig, ax = plt.subplots()\n",
    "ax.scatter(y_test, dt_predictions)\n",
    "ax.plot([dt_predictions.min(), dt_predictions.max()], [dt_predictions.min(), dt_predictions.max()], 'k--', lw=2)\n",
    "ax.set_xlabel('Measured')\n",
    "ax.set_ylabel('Predicted')\n",
    "plt.figure(figsize=(1,1))\n",
    "plt.show()"
   ]
  },
  {
   "cell_type": "code",
   "execution_count": null,
   "metadata": {
    "collapsed": true
   },
   "outputs": [],
   "source": []
  },
  {
   "cell_type": "code",
   "execution_count": null,
   "metadata": {
    "collapsed": false
   },
   "outputs": [],
   "source": [
    "%time rf=evaluate_model(RandomForestRegressor(n_jobs=-1), x_train, y_train)"
   ]
  },
  {
   "cell_type": "code",
   "execution_count": null,
   "metadata": {
    "collapsed": false
   },
   "outputs": [],
   "source": [
    "rf_predictions = rf.predict(x_test)\n",
    "rf.score(x_test, y_test)"
   ]
  },
  {
   "cell_type": "code",
   "execution_count": null,
   "metadata": {
    "collapsed": false
   },
   "outputs": [],
   "source": [
    "fig, ax = plt.subplots()\n",
    "ax.scatter(y_test, rf_predictions)\n",
    "ax.plot([rf_predictions.min(), rf_predictions.max()], [rf_predictions.min(), rf_predictions.max()], 'k--', lw=2)\n",
    "ax.set_xlabel('Measured')\n",
    "ax.set_ylabel('Predicted')\n",
    "plt.figure(figsize=(20,15))\n",
    "plt.show()"
   ]
  },
  {
   "cell_type": "code",
   "execution_count": null,
   "metadata": {
    "collapsed": false
   },
   "outputs": [],
   "source": [
    "%time et=evaluate_model(ExtraTreesRegressor(n_jobs=-1), x_train, y_train)"
   ]
  },
  {
   "cell_type": "code",
   "execution_count": null,
   "metadata": {
    "collapsed": false
   },
   "outputs": [],
   "source": [
    "et_predictions = et.predict(x_test)\n",
    "et.score(x_test, y_test)"
   ]
  },
  {
   "cell_type": "code",
   "execution_count": null,
   "metadata": {
    "collapsed": false
   },
   "outputs": [],
   "source": [
    "fig, ax = plt.subplots()\n",
    "ax.scatter(y_test, et_predictions)\n",
    "ax.plot([et_predictions.min(), et_predictions.max()], [et_predictions.min(), et_predictions.max()], 'k--', lw=2)\n",
    "ax.set_xlabel('Measured')\n",
    "ax.set_ylabel('Predicted')\n",
    "plt.figure(figsize=(20,15))\n",
    "plt.show()"
   ]
  },
  {
   "cell_type": "code",
   "execution_count": null,
   "metadata": {
    "collapsed": false
   },
   "outputs": [],
   "source": [
    "params = {\n",
    "    'n_estimators': [10, 20, 50, 100, 200],\n",
    "    'max_depth': [None,1, 2, 3, 4, 5],\n",
    "    'min_samples_split': [2, 10, 25, 50, 100],\n",
    "#     'min_samples_leaf': [1, 2, 3, 4, 5, 10]\n",
    "}\n",
    "%time rf2=evaluate_model(RandomForestRegressor(n_jobs=-1), x_train, y_train, params=params)"
   ]
  },
  {
   "cell_type": "code",
   "execution_count": null,
   "metadata": {
    "collapsed": false
   },
   "outputs": [],
   "source": [
    "rf2_predictions = rf2.predict(x_test)\n",
    "rf2.score(x_test, y_test)"
   ]
  },
  {
   "cell_type": "code",
   "execution_count": null,
   "metadata": {
    "collapsed": false
   },
   "outputs": [],
   "source": [
    "fig, ax = plt.subplots()\n",
    "ax.scatter(y_test, rf2_predictions)\n",
    "ax.plot([rf2_predictions.min(), rf2_predictions.max()], [rf2_predictions.min(), rf2_predictions.max()], 'k--', lw=2)\n",
    "ax.set_xlabel('Measured')\n",
    "ax.set_ylabel('Predicted')\n",
    "plt.figure(figsize=(20,15))\n",
    "plt.show()"
   ]
  },
  {
   "cell_type": "code",
   "execution_count": null,
   "metadata": {
    "collapsed": false
   },
   "outputs": [],
   "source": [
    "params = {\n",
    "    'n_estimators': [10, 20, 50, 100, 200],\n",
    "    'max_depth': [None,1, 2, 3, 4, 5],\n",
    "    'min_samples_split': [2, 10, 25, 50, 100],\n",
    "}\n",
    "%time et2=evaluate_model(ExtraTreesRegressor(n_jobs=-1), x_train, y_train, params=params)"
   ]
  },
  {
   "cell_type": "code",
   "execution_count": null,
   "metadata": {
    "collapsed": false
   },
   "outputs": [],
   "source": [
    "et2_predictions = et2.predict(x_test)\n",
    "et2.score(x_test, y_test)"
   ]
  },
  {
   "cell_type": "code",
   "execution_count": null,
   "metadata": {
    "collapsed": false
   },
   "outputs": [],
   "source": [
    "fig, ax = plt.subplots()\n",
    "ax.scatter(y_test, et2_predictions)\n",
    "ax.plot([et2_predictions.min(), et2_predictions.max()], [et2_predictions.min(), et2_predictions.max()], 'k--', lw=2)\n",
    "ax.set_xlabel('Measured')\n",
    "ax.set_ylabel('Predicted')\n",
    "plt.figure(figsize=(20,15))\n",
    "plt.show()"
   ]
  },
  {
   "cell_type": "code",
   "execution_count": null,
   "metadata": {
    "collapsed": false
   },
   "outputs": [],
   "source": [
    "params = {\n",
    "    'l1_ratio': [.1, .3, .5, .7, .9],\n",
    "    'n_alphas': [100],\n",
    "    'normalize': [True, False],\n",
    "}\n",
    "%time en=evaluate_model(ElasticNetCV(n_jobs=-1), x_train, y_train, params)"
   ]
  },
  {
   "cell_type": "code",
   "execution_count": null,
   "metadata": {
    "collapsed": true
   },
   "outputs": [],
   "source": [
    "en_predictions = en.predict(x_test)\n",
    "en.score(x_test, y_test)"
   ]
  },
  {
   "cell_type": "code",
   "execution_count": null,
   "metadata": {
    "collapsed": true
   },
   "outputs": [],
   "source": [
    "fig, ax = plt.subplots()\n",
    "ax.scatter(y_test, en_predictions)\n",
    "ax.plot([en_predictions.min(), en_predictions.max()], [en_predictions.min(), en_predictions.max()], 'k--', lw=2)\n",
    "ax.set_xlabel('Measured')\n",
    "ax.set_ylabel('Predicted')\n",
    "plt.figure(figsize=(20,15))\n",
    "plt.show()"
   ]
  },
  {
   "cell_type": "code",
   "execution_count": null,
   "metadata": {
    "collapsed": true
   },
   "outputs": [],
   "source": []
  },
  {
   "cell_type": "code",
   "execution_count": null,
   "metadata": {
    "collapsed": true
   },
   "outputs": [],
   "source": []
  },
  {
   "cell_type": "code",
   "execution_count": null,
   "metadata": {
    "collapsed": true
   },
   "outputs": [],
   "source": []
  },
  {
   "cell_type": "code",
   "execution_count": null,
   "metadata": {
    "collapsed": true
   },
   "outputs": [],
   "source": []
  },
  {
   "cell_type": "code",
   "execution_count": null,
   "metadata": {
    "collapsed": true
   },
   "outputs": [],
   "source": []
  },
  {
   "cell_type": "code",
   "execution_count": null,
   "metadata": {
    "collapsed": true
   },
   "outputs": [],
   "source": [
    "# params = {\n",
    "#     'n_estimators': [10, 20, 50, 100, 200],\n",
    "#     'max_depth': [None,1, 2, 3, 4, 5],\n",
    "#     'min_samples_split': [2, 10, 25, 50, 100],\n",
    "# #     'min_samples_leaf': [1, 2, 3, 4, 5, 10]\n",
    "# }\n",
    "# start_time = time.time()\n",
    "# rf=evaluate_model(RandomForestRegressor(n_jobs=-1), x_train, y_train, params)\n",
    "# print 'This operation took '+ str(time.time() - start_time) + \" seconds\""
   ]
  },
  {
   "cell_type": "code",
   "execution_count": null,
   "metadata": {
    "collapsed": true
   },
   "outputs": [],
   "source": []
  },
  {
   "cell_type": "code",
   "execution_count": null,
   "metadata": {
    "collapsed": true
   },
   "outputs": [],
   "source": []
  },
  {
   "cell_type": "code",
   "execution_count": null,
   "metadata": {
    "collapsed": true
   },
   "outputs": [],
   "source": []
  },
  {
   "cell_type": "code",
   "execution_count": null,
   "metadata": {
    "collapsed": true
   },
   "outputs": [],
   "source": []
  },
  {
   "cell_type": "code",
   "execution_count": null,
   "metadata": {
    "collapsed": true
   },
   "outputs": [],
   "source": []
  },
  {
   "cell_type": "code",
   "execution_count": null,
   "metadata": {
    "collapsed": true
   },
   "outputs": [],
   "source": []
  },
  {
   "cell_type": "code",
   "execution_count": null,
   "metadata": {
    "collapsed": true
   },
   "outputs": [],
   "source": []
  }
 ],
 "metadata": {
  "anaconda-cloud": {},
  "kernelspec": {
   "display_name": "Python [conda root]",
   "language": "python",
   "name": "conda-root-py"
  },
  "language_info": {
   "codemirror_mode": {
    "name": "ipython",
    "version": 2
   },
   "file_extension": ".py",
   "mimetype": "text/x-python",
   "name": "python",
   "nbconvert_exporter": "python",
   "pygments_lexer": "ipython2",
   "version": "2.7.12"
  }
 },
 "nbformat": 4,
 "nbformat_minor": 1
}
