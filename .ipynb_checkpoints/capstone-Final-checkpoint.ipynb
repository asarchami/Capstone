{
 "cells": [
  {
   "cell_type": "code",
   "execution_count": 1,
   "metadata": {
    "collapsed": false
   },
   "outputs": [],
   "source": [
    "from bs4 import BeautifulSoup\n",
    "import urllib2\n",
    "import pandas as pd\n",
    "import numpy as np\n",
    "\n",
    "\n",
    "\n",
    "from datetime import date, timedelta, datetime\n",
    "from time import sleep\n",
    "import os.path\n",
    "\n",
    "import re\n",
    "import random\n",
    "\n",
    "import matplotlib.pyplot as plt\n",
    "%matplotlib inline\n",
    "\n",
    "from sentimenter import sentimenter as slr"
   ]
  },
  {
   "cell_type": "code",
   "execution_count": 2,
   "metadata": {
    "collapsed": false
   },
   "outputs": [],
   "source": [
    "from sklearn.linear_model import LinearRegression, ElasticNetCV, RidgeCV, LassoCV\n",
    "# from sklearn.cross_validation import train_test_split\n",
    "from sklearn.cross_validation import StratifiedKFold, cross_val_score, train_test_split\n",
    "from sklearn.metrics import explained_variance_score, mean_absolute_error, silhouette_score\n",
    "from sklearn.ensemble import RandomForestRegressor, ExtraTreesRegressor\n",
    "from sklearn.tree import DecisionTreeRegressor\n",
    "from sklearn.grid_search import GridSearchCV\n",
    "\n",
    "from sklearn.externals import joblib\n",
    "\n",
    "import pydot\n",
    "from IPython.display import Image\n",
    "\n",
    "import seaborn as sns\n",
    "import matplotlib.pyplot as plt\n",
    "\n",
    "%matplotlib inline"
   ]
  },
  {
   "cell_type": "markdown",
   "metadata": {},
   "source": [
    "# Data Collection"
   ]
  },
  {
   "cell_type": "code",
   "execution_count": 3,
   "metadata": {
    "collapsed": false
   },
   "outputs": [
    {
     "name": "stdout",
     "output_type": "stream",
     "text": [
      "<class 'pandas.core.frame.DataFrame'>\n",
      "Int64Index: 505 entries, 0 to 504\n",
      "Data columns (total 8 columns):\n",
      "Ticker_symbol              505 non-null object\n",
      "Security                   505 non-null object\n",
      "SEC_filings                505 non-null object\n",
      "GICS_Sector                505 non-null object\n",
      "GICS_Sub_Industry          505 non-null object\n",
      "Address_of_Headquarters    505 non-null object\n",
      "Date_first_added           305 non-null object\n",
      "CIK                        505 non-null int64\n",
      "dtypes: int64(1), object(7)\n",
      "memory usage: 35.5+ KB\n",
      "None\n"
     ]
    },
    {
     "data": {
      "text/html": [
       "<div>\n",
       "<table border=\"1\" class=\"dataframe\">\n",
       "  <thead>\n",
       "    <tr style=\"text-align: right;\">\n",
       "      <th></th>\n",
       "      <th>Ticker_symbol</th>\n",
       "      <th>Security</th>\n",
       "      <th>SEC_filings</th>\n",
       "      <th>GICS_Sector</th>\n",
       "      <th>GICS_Sub_Industry</th>\n",
       "      <th>Address_of_Headquarters</th>\n",
       "      <th>Date_first_added</th>\n",
       "      <th>CIK</th>\n",
       "    </tr>\n",
       "  </thead>\n",
       "  <tbody>\n",
       "    <tr>\n",
       "      <th>0</th>\n",
       "      <td>MMM</td>\n",
       "      <td>3M Company</td>\n",
       "      <td>reports</td>\n",
       "      <td>Industrials</td>\n",
       "      <td>Industrial Conglomerates</td>\n",
       "      <td>St. Paul, Minnesota</td>\n",
       "      <td>NaN</td>\n",
       "      <td>66740</td>\n",
       "    </tr>\n",
       "    <tr>\n",
       "      <th>1</th>\n",
       "      <td>ABT</td>\n",
       "      <td>Abbott Laboratories</td>\n",
       "      <td>reports</td>\n",
       "      <td>Health Care</td>\n",
       "      <td>Health Care Equipment</td>\n",
       "      <td>North Chicago, Illinois</td>\n",
       "      <td>1964-03-31</td>\n",
       "      <td>1800</td>\n",
       "    </tr>\n",
       "    <tr>\n",
       "      <th>2</th>\n",
       "      <td>ABBV</td>\n",
       "      <td>AbbVie</td>\n",
       "      <td>reports</td>\n",
       "      <td>Health Care</td>\n",
       "      <td>Pharmaceuticals</td>\n",
       "      <td>North Chicago, Illinois</td>\n",
       "      <td>2012-12-31</td>\n",
       "      <td>1551152</td>\n",
       "    </tr>\n",
       "    <tr>\n",
       "      <th>3</th>\n",
       "      <td>ACN</td>\n",
       "      <td>Accenture plc</td>\n",
       "      <td>reports</td>\n",
       "      <td>Information Technology</td>\n",
       "      <td>IT Consulting &amp; Other Services</td>\n",
       "      <td>Dublin, Ireland</td>\n",
       "      <td>2011-07-06</td>\n",
       "      <td>1467373</td>\n",
       "    </tr>\n",
       "    <tr>\n",
       "      <th>4</th>\n",
       "      <td>ATVI</td>\n",
       "      <td>Activision Blizzard</td>\n",
       "      <td>reports</td>\n",
       "      <td>Information Technology</td>\n",
       "      <td>Home Entertainment Software</td>\n",
       "      <td>Santa Monica, California</td>\n",
       "      <td>2015-08-31</td>\n",
       "      <td>718877</td>\n",
       "    </tr>\n",
       "  </tbody>\n",
       "</table>\n",
       "</div>"
      ],
      "text/plain": [
       "  Ticker_symbol             Security SEC_filings             GICS_Sector  \\\n",
       "0           MMM           3M Company     reports             Industrials   \n",
       "1           ABT  Abbott Laboratories     reports             Health Care   \n",
       "2          ABBV               AbbVie     reports             Health Care   \n",
       "3           ACN        Accenture plc     reports  Information Technology   \n",
       "4          ATVI  Activision Blizzard     reports  Information Technology   \n",
       "\n",
       "                GICS_Sub_Industry   Address_of_Headquarters Date_first_added  \\\n",
       "0        Industrial Conglomerates       St. Paul, Minnesota              NaN   \n",
       "1           Health Care Equipment   North Chicago, Illinois       1964-03-31   \n",
       "2                 Pharmaceuticals   North Chicago, Illinois       2012-12-31   \n",
       "3  IT Consulting & Other Services           Dublin, Ireland       2011-07-06   \n",
       "4     Home Entertainment Software  Santa Monica, California       2015-08-31   \n",
       "\n",
       "       CIK  \n",
       "0    66740  \n",
       "1     1800  \n",
       "2  1551152  \n",
       "3  1467373  \n",
       "4   718877  "
      ]
     },
     "execution_count": 3,
     "metadata": {},
     "output_type": "execute_result"
    }
   ],
   "source": [
    "companies = slr.get_companies()\n",
    "companies['Ticker_symbol'] = companies['Ticker_symbol'].apply(lambda x: x.replace('.N', ''))\n",
    "print companies.info()\n",
    "companies.head()"
   ]
  },
  {
   "cell_type": "code",
   "execution_count": 4,
   "metadata": {
    "collapsed": false
   },
   "outputs": [
    {
     "name": "stdout",
     "output_type": "stream",
     "text": [
      "[]\n",
      "(74775, 6) (74708, 10)\n",
      "need to sentimentalize 0 symbols\n",
      "Nothing updated\n",
      "<class 'pandas.core.frame.DataFrame'>\n",
      "Int64Index: 74708 entries, 0 to 118\n",
      "Data columns (total 10 columns):\n",
      "Article     74708 non-null object\n",
      "Date        74708 non-null object\n",
      "Symbol      74708 non-null object\n",
      "Time        74708 non-null object\n",
      "Title       74708 non-null object\n",
      "Url         74708 non-null object\n",
      "compound    74708 non-null float64\n",
      "neg         74708 non-null float64\n",
      "neu         74708 non-null float64\n",
      "pos         74708 non-null float64\n",
      "dtypes: float64(4), object(6)\n",
      "memory usage: 6.3+ MB\n"
     ]
    }
   ],
   "source": [
    "all_articles = slr.get_sentimentalized_articles(companies)\n",
    "all_articles.info()"
   ]
  },
  {
   "cell_type": "code",
   "execution_count": 5,
   "metadata": {
    "collapsed": false
   },
   "outputs": [
    {
     "name": "stdout",
     "output_type": "stream",
     "text": [
      "Available symbol quotes:  443\n",
      "New downloaded symbol quotes:  57\n",
      "<class 'pandas.core.frame.DataFrame'>\n",
      "RangeIndex: 367219 entries, 0 to 367218\n",
      "Data columns (total 8 columns):\n",
      "Date         367219 non-null object\n",
      "Adj Close    352735 non-null float64\n",
      "Close        367219 non-null float64\n",
      "High         367219 non-null float64\n",
      "Low          367219 non-null float64\n",
      "Open         367219 non-null float64\n",
      "Symbol       367219 non-null object\n",
      "Volume       367219 non-null float64\n",
      "dtypes: float64(6), object(2)\n",
      "memory usage: 22.4+ MB\n"
     ]
    }
   ],
   "source": [
    "quotes = slr.update_quotes(all_articles)\n",
    "quotes.info()"
   ]
  },
  {
   "cell_type": "markdown",
   "metadata": {},
   "source": [
    "# Data preparation"
   ]
  },
  {
   "cell_type": "code",
   "execution_count": 6,
   "metadata": {
    "collapsed": false
   },
   "outputs": [
    {
     "data": {
      "text/html": [
       "<div>\n",
       "<table border=\"1\" class=\"dataframe\">\n",
       "  <thead>\n",
       "    <tr style=\"text-align: right;\">\n",
       "      <th></th>\n",
       "      <th>Article</th>\n",
       "      <th>Date</th>\n",
       "      <th>Symbol</th>\n",
       "      <th>Time</th>\n",
       "      <th>Title</th>\n",
       "      <th>Url</th>\n",
       "      <th>compound</th>\n",
       "      <th>neg</th>\n",
       "      <th>neu</th>\n",
       "      <th>pos</th>\n",
       "    </tr>\n",
       "  </thead>\n",
       "  <tbody>\n",
       "    <tr>\n",
       "      <th>0</th>\n",
       "      <td>MOSCOW Jan 17 Russia's biggest home electron...</td>\n",
       "      <td>2014-01-17</td>\n",
       "      <td>MMM</td>\n",
       "      <td>7:49</td>\n",
       "      <td>Russia's M.video says consumer confidence weak...</td>\n",
       "      <td>http://www.reuters.com//article/russia-mvideo-...</td>\n",
       "      <td>0.0516</td>\n",
       "      <td>0.049</td>\n",
       "      <td>0.901</td>\n",
       "      <td>0.051</td>\n",
       "    </tr>\n",
       "    <tr>\n",
       "      <th>1</th>\n",
       "      <td>By Lewis Krauskopf  Diversified manufacture...</td>\n",
       "      <td>2014-01-30</td>\n",
       "      <td>MMM</td>\n",
       "      <td>9:44</td>\n",
       "      <td>3M revenue growth slows, misses Wall Street ta...</td>\n",
       "      <td>http://www.reuters.com//article/us-3m-results-...</td>\n",
       "      <td>0.7096</td>\n",
       "      <td>0.037</td>\n",
       "      <td>0.896</td>\n",
       "      <td>0.067</td>\n",
       "    </tr>\n",
       "    <tr>\n",
       "      <th>2</th>\n",
       "      <td>By Lewis KrauskopfJan 30 Diversified manufac...</td>\n",
       "      <td>2014-01-30</td>\n",
       "      <td>MMM</td>\n",
       "      <td>9:42</td>\n",
       "      <td>UPDATE 2-3M revenue growth slows, misses Wall ...</td>\n",
       "      <td>http://www.reuters.com//article/3m-results-idU...</td>\n",
       "      <td>0.7964</td>\n",
       "      <td>0.038</td>\n",
       "      <td>0.886</td>\n",
       "      <td>0.076</td>\n",
       "    </tr>\n",
       "    <tr>\n",
       "      <th>3</th>\n",
       "      <td>Jan 30 Diversified manufacturer 3M Co  poste...</td>\n",
       "      <td>2014-01-30</td>\n",
       "      <td>MMM</td>\n",
       "      <td>7:39</td>\n",
       "      <td>Manufacturer 3M posts 11 percent rise in net i...</td>\n",
       "      <td>http://www.reuters.com//article/3m-results-idU...</td>\n",
       "      <td>0.7430</td>\n",
       "      <td>0.000</td>\n",
       "      <td>0.885</td>\n",
       "      <td>0.115</td>\n",
       "    </tr>\n",
       "    <tr>\n",
       "      <th>4</th>\n",
       "      <td>3M Co. has invested US$15 million in one of ...</td>\n",
       "      <td>2014-03-10</td>\n",
       "      <td>MMM</td>\n",
       "      <td>8:19</td>\n",
       "      <td>SINGAPORE PRESS-3M to lift N95 mask output at ...</td>\n",
       "      <td>http://www.reuters.com//article/singapore-pres...</td>\n",
       "      <td>0.4019</td>\n",
       "      <td>0.000</td>\n",
       "      <td>0.958</td>\n",
       "      <td>0.042</td>\n",
       "    </tr>\n",
       "  </tbody>\n",
       "</table>\n",
       "</div>"
      ],
      "text/plain": [
       "                                             Article       Date Symbol  Time  \\\n",
       "0    MOSCOW Jan 17 Russia's biggest home electron... 2014-01-17    MMM  7:49   \n",
       "1     By Lewis Krauskopf  Diversified manufacture... 2014-01-30    MMM  9:44   \n",
       "2    By Lewis KrauskopfJan 30 Diversified manufac... 2014-01-30    MMM  9:42   \n",
       "3    Jan 30 Diversified manufacturer 3M Co  poste... 2014-01-30    MMM  7:39   \n",
       "4    3M Co. has invested US$15 million in one of ... 2014-03-10    MMM  8:19   \n",
       "\n",
       "                                               Title  \\\n",
       "0  Russia's M.video says consumer confidence weak...   \n",
       "1  3M revenue growth slows, misses Wall Street ta...   \n",
       "2  UPDATE 2-3M revenue growth slows, misses Wall ...   \n",
       "3  Manufacturer 3M posts 11 percent rise in net i...   \n",
       "4  SINGAPORE PRESS-3M to lift N95 mask output at ...   \n",
       "\n",
       "                                                 Url  compound    neg    neu  \\\n",
       "0  http://www.reuters.com//article/russia-mvideo-...    0.0516  0.049  0.901   \n",
       "1  http://www.reuters.com//article/us-3m-results-...    0.7096  0.037  0.896   \n",
       "2  http://www.reuters.com//article/3m-results-idU...    0.7964  0.038  0.886   \n",
       "3  http://www.reuters.com//article/3m-results-idU...    0.7430  0.000  0.885   \n",
       "4  http://www.reuters.com//article/singapore-pres...    0.4019  0.000  0.958   \n",
       "\n",
       "     pos  \n",
       "0  0.051  \n",
       "1  0.067  \n",
       "2  0.076  \n",
       "3  0.115  \n",
       "4  0.042  "
      ]
     },
     "execution_count": 6,
     "metadata": {},
     "output_type": "execute_result"
    }
   ],
   "source": [
    "# Change Time column to simple time format\n",
    "all_articles.Time = all_articles.Time.apply(lambda x: re.search('[0-9]?[0-9]:[0-9]{1,2}', x).group(0))\n",
    "# Convert Date to DateTime\n",
    "all_articles['Date'] = pd.to_datetime(all_articles['Date'], format='%Y-%m-%d')\n",
    "all_articles.head()"
   ]
  },
  {
   "cell_type": "code",
   "execution_count": 7,
   "metadata": {
    "collapsed": false
   },
   "outputs": [
    {
     "data": {
      "text/html": [
       "<div>\n",
       "<table border=\"1\" class=\"dataframe\">\n",
       "  <thead>\n",
       "    <tr style=\"text-align: right;\">\n",
       "      <th></th>\n",
       "      <th>Date</th>\n",
       "      <th>Close</th>\n",
       "      <th>High</th>\n",
       "      <th>Low</th>\n",
       "      <th>Open</th>\n",
       "      <th>Symbol</th>\n",
       "      <th>Volume</th>\n",
       "    </tr>\n",
       "  </thead>\n",
       "  <tbody>\n",
       "    <tr>\n",
       "      <th>0</th>\n",
       "      <td>2014-01-02</td>\n",
       "      <td>35.53</td>\n",
       "      <td>36.11</td>\n",
       "      <td>35.47</td>\n",
       "      <td>36.05</td>\n",
       "      <td>AEE</td>\n",
       "      <td>1394264.0</td>\n",
       "    </tr>\n",
       "    <tr>\n",
       "      <th>1</th>\n",
       "      <td>2014-01-03</td>\n",
       "      <td>35.40</td>\n",
       "      <td>35.69</td>\n",
       "      <td>35.22</td>\n",
       "      <td>35.63</td>\n",
       "      <td>AEE</td>\n",
       "      <td>1206534.0</td>\n",
       "    </tr>\n",
       "    <tr>\n",
       "      <th>2</th>\n",
       "      <td>2014-01-06</td>\n",
       "      <td>35.76</td>\n",
       "      <td>35.82</td>\n",
       "      <td>35.42</td>\n",
       "      <td>35.70</td>\n",
       "      <td>AEE</td>\n",
       "      <td>2837469.0</td>\n",
       "    </tr>\n",
       "    <tr>\n",
       "      <th>3</th>\n",
       "      <td>2014-01-07</td>\n",
       "      <td>36.22</td>\n",
       "      <td>36.25</td>\n",
       "      <td>35.81</td>\n",
       "      <td>35.81</td>\n",
       "      <td>AEE</td>\n",
       "      <td>1653721.0</td>\n",
       "    </tr>\n",
       "    <tr>\n",
       "      <th>4</th>\n",
       "      <td>2014-01-08</td>\n",
       "      <td>35.94</td>\n",
       "      <td>36.19</td>\n",
       "      <td>35.80</td>\n",
       "      <td>36.14</td>\n",
       "      <td>AEE</td>\n",
       "      <td>1618538.0</td>\n",
       "    </tr>\n",
       "  </tbody>\n",
       "</table>\n",
       "</div>"
      ],
      "text/plain": [
       "        Date  Close   High    Low   Open Symbol     Volume\n",
       "0 2014-01-02  35.53  36.11  35.47  36.05    AEE  1394264.0\n",
       "1 2014-01-03  35.40  35.69  35.22  35.63    AEE  1206534.0\n",
       "2 2014-01-06  35.76  35.82  35.42  35.70    AEE  2837469.0\n",
       "3 2014-01-07  36.22  36.25  35.81  35.81    AEE  1653721.0\n",
       "4 2014-01-08  35.94  36.19  35.80  36.14    AEE  1618538.0"
      ]
     },
     "execution_count": 7,
     "metadata": {},
     "output_type": "execute_result"
    }
   ],
   "source": [
    "# Remove unwanted column\n",
    "quotes = quotes.drop('Adj Close', axis=1)\n",
    "# Convert Date to DateTime\n",
    "quotes['Date'] = pd.to_datetime(quotes['Date'], format='%Y-%m-%d')\n",
    "quotes.head()"
   ]
  },
  {
   "cell_type": "code",
   "execution_count": 8,
   "metadata": {
    "collapsed": false
   },
   "outputs": [],
   "source": [
    "articles = all_articles.copy()\n",
    "# create a new dataframe with just sentiments\n",
    "articles = articles[['Date', 'Symbol', 'compound', 'neg', 'neu', 'pos']]"
   ]
  },
  {
   "cell_type": "code",
   "execution_count": 9,
   "metadata": {
    "collapsed": false
   },
   "outputs": [
    {
     "data": {
      "text/html": [
       "<div>\n",
       "<table border=\"1\" class=\"dataframe\">\n",
       "  <thead>\n",
       "    <tr style=\"text-align: right;\">\n",
       "      <th></th>\n",
       "      <th>Date</th>\n",
       "      <th>Symbol</th>\n",
       "      <th>compound</th>\n",
       "      <th>neg</th>\n",
       "      <th>neu</th>\n",
       "      <th>pos</th>\n",
       "    </tr>\n",
       "  </thead>\n",
       "  <tbody>\n",
       "    <tr>\n",
       "      <th>0</th>\n",
       "      <td>2014-01-01</td>\n",
       "      <td>AAL</td>\n",
       "      <td>0.97710</td>\n",
       "      <td>0.035000</td>\n",
       "      <td>0.897</td>\n",
       "      <td>0.068000</td>\n",
       "    </tr>\n",
       "    <tr>\n",
       "      <th>1</th>\n",
       "      <td>2014-01-01</td>\n",
       "      <td>AZO</td>\n",
       "      <td>0.99110</td>\n",
       "      <td>0.055000</td>\n",
       "      <td>0.836</td>\n",
       "      <td>0.109000</td>\n",
       "    </tr>\n",
       "    <tr>\n",
       "      <th>2</th>\n",
       "      <td>2014-01-01</td>\n",
       "      <td>BRKB</td>\n",
       "      <td>-0.99340</td>\n",
       "      <td>0.122000</td>\n",
       "      <td>0.822</td>\n",
       "      <td>0.056000</td>\n",
       "    </tr>\n",
       "    <tr>\n",
       "      <th>3</th>\n",
       "      <td>2014-01-01</td>\n",
       "      <td>CPB</td>\n",
       "      <td>-0.17790</td>\n",
       "      <td>0.079500</td>\n",
       "      <td>0.864</td>\n",
       "      <td>0.056000</td>\n",
       "    </tr>\n",
       "    <tr>\n",
       "      <th>4</th>\n",
       "      <td>2014-01-02</td>\n",
       "      <td>AAPL</td>\n",
       "      <td>0.95785</td>\n",
       "      <td>0.031833</td>\n",
       "      <td>0.876</td>\n",
       "      <td>0.092333</td>\n",
       "    </tr>\n",
       "  </tbody>\n",
       "</table>\n",
       "</div>"
      ],
      "text/plain": [
       "        Date Symbol  compound       neg    neu       pos\n",
       "0 2014-01-01    AAL   0.97710  0.035000  0.897  0.068000\n",
       "1 2014-01-01    AZO   0.99110  0.055000  0.836  0.109000\n",
       "2 2014-01-01   BRKB  -0.99340  0.122000  0.822  0.056000\n",
       "3 2014-01-01    CPB  -0.17790  0.079500  0.864  0.056000\n",
       "4 2014-01-02   AAPL   0.95785  0.031833  0.876  0.092333"
      ]
     },
     "execution_count": 9,
     "metadata": {},
     "output_type": "execute_result"
    }
   ],
   "source": [
    "# pivot multiple news to a single one by averaging its score\n",
    "articles = pd.pivot_table(articles,\n",
    "                          index=['Date', 'Symbol'],\n",
    "                          values=['compound', 'neg', 'neu', 'pos'],\n",
    "                          aggfunc=np.average).reset_index()\n",
    "articles.head()"
   ]
  },
  {
   "cell_type": "code",
   "execution_count": 10,
   "metadata": {
    "collapsed": false,
    "scrolled": true
   },
   "outputs": [
    {
     "name": "stdout",
     "output_type": "stream",
     "text": [
      "We have 500 symbols in articles and 500 symbols in quotes\n",
      "shape of articles: (30294, 6), shape of quotes: (367219, 7)\n"
     ]
    }
   ],
   "source": [
    "# check whether we have news and quotes for same number of symbols\n",
    "print \"We have {} symbols in articles and {} symbols in quotes\".format(\n",
    "    len(articles['Symbol'].unique()), len(quotes['Symbol'].unique()))\n",
    "print \"shape of articles: {}, shape of quotes: {}\".format(articles.shape, quotes.shape)"
   ]
  },
  {
   "cell_type": "code",
   "execution_count": 11,
   "metadata": {
    "collapsed": false
   },
   "outputs": [
    {
     "data": {
      "text/html": [
       "<div>\n",
       "<table border=\"1\" class=\"dataframe\">\n",
       "  <thead>\n",
       "    <tr style=\"text-align: right;\">\n",
       "      <th></th>\n",
       "      <th>Date</th>\n",
       "      <th>Symbol</th>\n",
       "      <th>Close</th>\n",
       "      <th>High</th>\n",
       "      <th>Low</th>\n",
       "      <th>Open</th>\n",
       "      <th>Volume</th>\n",
       "      <th>compound</th>\n",
       "      <th>neg</th>\n",
       "      <th>neu</th>\n",
       "      <th>pos</th>\n",
       "    </tr>\n",
       "  </thead>\n",
       "  <tbody>\n",
       "    <tr>\n",
       "      <th>0</th>\n",
       "      <td>2014-01-02</td>\n",
       "      <td>AEE</td>\n",
       "      <td>35.53</td>\n",
       "      <td>36.11</td>\n",
       "      <td>35.47</td>\n",
       "      <td>36.05</td>\n",
       "      <td>1394264.0</td>\n",
       "      <td>NaN</td>\n",
       "      <td>NaN</td>\n",
       "      <td>NaN</td>\n",
       "      <td>NaN</td>\n",
       "    </tr>\n",
       "    <tr>\n",
       "      <th>1</th>\n",
       "      <td>2014-01-03</td>\n",
       "      <td>AEE</td>\n",
       "      <td>35.40</td>\n",
       "      <td>35.69</td>\n",
       "      <td>35.22</td>\n",
       "      <td>35.63</td>\n",
       "      <td>1206534.0</td>\n",
       "      <td>NaN</td>\n",
       "      <td>NaN</td>\n",
       "      <td>NaN</td>\n",
       "      <td>NaN</td>\n",
       "    </tr>\n",
       "    <tr>\n",
       "      <th>2</th>\n",
       "      <td>2014-01-06</td>\n",
       "      <td>AEE</td>\n",
       "      <td>35.76</td>\n",
       "      <td>35.82</td>\n",
       "      <td>35.42</td>\n",
       "      <td>35.70</td>\n",
       "      <td>2837469.0</td>\n",
       "      <td>NaN</td>\n",
       "      <td>NaN</td>\n",
       "      <td>NaN</td>\n",
       "      <td>NaN</td>\n",
       "    </tr>\n",
       "    <tr>\n",
       "      <th>3</th>\n",
       "      <td>2014-01-07</td>\n",
       "      <td>AEE</td>\n",
       "      <td>36.22</td>\n",
       "      <td>36.25</td>\n",
       "      <td>35.81</td>\n",
       "      <td>35.81</td>\n",
       "      <td>1653721.0</td>\n",
       "      <td>NaN</td>\n",
       "      <td>NaN</td>\n",
       "      <td>NaN</td>\n",
       "      <td>NaN</td>\n",
       "    </tr>\n",
       "    <tr>\n",
       "      <th>4</th>\n",
       "      <td>2014-01-08</td>\n",
       "      <td>AEE</td>\n",
       "      <td>35.94</td>\n",
       "      <td>36.19</td>\n",
       "      <td>35.80</td>\n",
       "      <td>36.14</td>\n",
       "      <td>1618538.0</td>\n",
       "      <td>NaN</td>\n",
       "      <td>NaN</td>\n",
       "      <td>NaN</td>\n",
       "      <td>NaN</td>\n",
       "    </tr>\n",
       "  </tbody>\n",
       "</table>\n",
       "</div>"
      ],
      "text/plain": [
       "        Date Symbol  Close   High    Low   Open     Volume  compound  neg  \\\n",
       "0 2014-01-02    AEE  35.53  36.11  35.47  36.05  1394264.0       NaN  NaN   \n",
       "1 2014-01-03    AEE  35.40  35.69  35.22  35.63  1206534.0       NaN  NaN   \n",
       "2 2014-01-06    AEE  35.76  35.82  35.42  35.70  2837469.0       NaN  NaN   \n",
       "3 2014-01-07    AEE  36.22  36.25  35.81  35.81  1653721.0       NaN  NaN   \n",
       "4 2014-01-08    AEE  35.94  36.19  35.80  36.14  1618538.0       NaN  NaN   \n",
       "\n",
       "   neu  pos  \n",
       "0  NaN  NaN  \n",
       "1  NaN  NaN  \n",
       "2  NaN  NaN  \n",
       "3  NaN  NaN  \n",
       "4  NaN  NaN  "
      ]
     },
     "execution_count": 11,
     "metadata": {},
     "output_type": "execute_result"
    }
   ],
   "source": [
    "# join articles to quotes\n",
    "quotes_articles = quotes.set_index(['Date', 'Symbol']).join(\n",
    "    articles.set_index(['Date', 'Symbol']), rsuffix='r').reset_index()\n",
    "quotes_articles.head()"
   ]
  },
  {
   "cell_type": "code",
   "execution_count": 12,
   "metadata": {
    "collapsed": false
   },
   "outputs": [
    {
     "data": {
      "text/html": [
       "<div>\n",
       "<table border=\"1\" class=\"dataframe\">\n",
       "  <thead>\n",
       "    <tr style=\"text-align: right;\">\n",
       "      <th></th>\n",
       "      <th>Date</th>\n",
       "      <th>Symbol</th>\n",
       "      <th>Close</th>\n",
       "      <th>High</th>\n",
       "      <th>Low</th>\n",
       "      <th>Open</th>\n",
       "      <th>Volume</th>\n",
       "      <th>compound</th>\n",
       "      <th>neg</th>\n",
       "      <th>neu</th>\n",
       "      <th>pos</th>\n",
       "      <th>Next_Close</th>\n",
       "      <th>Next_Open</th>\n",
       "      <th>Prev_Close</th>\n",
       "    </tr>\n",
       "  </thead>\n",
       "  <tbody>\n",
       "    <tr>\n",
       "      <th>0</th>\n",
       "      <td>2014-01-02</td>\n",
       "      <td>AEE</td>\n",
       "      <td>35.53</td>\n",
       "      <td>36.11</td>\n",
       "      <td>35.47</td>\n",
       "      <td>36.05</td>\n",
       "      <td>1394264.0</td>\n",
       "      <td>NaN</td>\n",
       "      <td>NaN</td>\n",
       "      <td>NaN</td>\n",
       "      <td>NaN</td>\n",
       "      <td>35.40</td>\n",
       "      <td>35.63</td>\n",
       "      <td>NaN</td>\n",
       "    </tr>\n",
       "    <tr>\n",
       "      <th>1</th>\n",
       "      <td>2014-01-03</td>\n",
       "      <td>AEE</td>\n",
       "      <td>35.40</td>\n",
       "      <td>35.69</td>\n",
       "      <td>35.22</td>\n",
       "      <td>35.63</td>\n",
       "      <td>1206534.0</td>\n",
       "      <td>NaN</td>\n",
       "      <td>NaN</td>\n",
       "      <td>NaN</td>\n",
       "      <td>NaN</td>\n",
       "      <td>35.76</td>\n",
       "      <td>35.70</td>\n",
       "      <td>35.53</td>\n",
       "    </tr>\n",
       "    <tr>\n",
       "      <th>2</th>\n",
       "      <td>2014-01-06</td>\n",
       "      <td>AEE</td>\n",
       "      <td>35.76</td>\n",
       "      <td>35.82</td>\n",
       "      <td>35.42</td>\n",
       "      <td>35.70</td>\n",
       "      <td>2837469.0</td>\n",
       "      <td>NaN</td>\n",
       "      <td>NaN</td>\n",
       "      <td>NaN</td>\n",
       "      <td>NaN</td>\n",
       "      <td>36.22</td>\n",
       "      <td>35.81</td>\n",
       "      <td>35.40</td>\n",
       "    </tr>\n",
       "    <tr>\n",
       "      <th>3</th>\n",
       "      <td>2014-01-07</td>\n",
       "      <td>AEE</td>\n",
       "      <td>36.22</td>\n",
       "      <td>36.25</td>\n",
       "      <td>35.81</td>\n",
       "      <td>35.81</td>\n",
       "      <td>1653721.0</td>\n",
       "      <td>NaN</td>\n",
       "      <td>NaN</td>\n",
       "      <td>NaN</td>\n",
       "      <td>NaN</td>\n",
       "      <td>35.94</td>\n",
       "      <td>36.14</td>\n",
       "      <td>35.76</td>\n",
       "    </tr>\n",
       "    <tr>\n",
       "      <th>4</th>\n",
       "      <td>2014-01-08</td>\n",
       "      <td>AEE</td>\n",
       "      <td>35.94</td>\n",
       "      <td>36.19</td>\n",
       "      <td>35.80</td>\n",
       "      <td>36.14</td>\n",
       "      <td>1618538.0</td>\n",
       "      <td>NaN</td>\n",
       "      <td>NaN</td>\n",
       "      <td>NaN</td>\n",
       "      <td>NaN</td>\n",
       "      <td>36.04</td>\n",
       "      <td>36.02</td>\n",
       "      <td>36.22</td>\n",
       "    </tr>\n",
       "  </tbody>\n",
       "</table>\n",
       "</div>"
      ],
      "text/plain": [
       "        Date Symbol  Close   High    Low   Open     Volume  compound  neg  \\\n",
       "0 2014-01-02    AEE  35.53  36.11  35.47  36.05  1394264.0       NaN  NaN   \n",
       "1 2014-01-03    AEE  35.40  35.69  35.22  35.63  1206534.0       NaN  NaN   \n",
       "2 2014-01-06    AEE  35.76  35.82  35.42  35.70  2837469.0       NaN  NaN   \n",
       "3 2014-01-07    AEE  36.22  36.25  35.81  35.81  1653721.0       NaN  NaN   \n",
       "4 2014-01-08    AEE  35.94  36.19  35.80  36.14  1618538.0       NaN  NaN   \n",
       "\n",
       "   neu  pos  Next_Close  Next_Open  Prev_Close  \n",
       "0  NaN  NaN       35.40      35.63         NaN  \n",
       "1  NaN  NaN       35.76      35.70       35.53  \n",
       "2  NaN  NaN       36.22      35.81       35.40  \n",
       "3  NaN  NaN       35.94      36.14       35.76  \n",
       "4  NaN  NaN       36.04      36.02       36.22  "
      ]
     },
     "execution_count": 12,
     "metadata": {},
     "output_type": "execute_result"
    }
   ],
   "source": [
    "quotes_articles['Next_Close'] = quotes_articles['Close'].shift(-1) # used fo calculating next day's slope\n",
    "quotes_articles['Next_Open'] = quotes_articles['Open'].shift(-1)   # for some possible prediction\n",
    "quotes_articles['Prev_Close'] = quotes_articles['Close'].shift(1)  # used fo calculating previous day's slope\n",
    "quotes_articles.head()"
   ]
  },
  {
   "cell_type": "code",
   "execution_count": 13,
   "metadata": {
    "collapsed": false,
    "scrolled": true
   },
   "outputs": [
    {
     "name": "stderr",
     "output_type": "stream",
     "text": [
      "/home/ali/anaconda2/lib/python2.7/site-packages/ipykernel/__main__.py:5: SettingWithCopyWarning: \n",
      "A value is trying to be set on a copy of a slice from a DataFrame\n",
      "\n",
      "See the caveats in the documentation: http://pandas.pydata.org/pandas-docs/stable/indexing.html#indexing-view-versus-copy\n",
      "/home/ali/anaconda2/lib/python2.7/site-packages/ipykernel/__main__.py:6: SettingWithCopyWarning: \n",
      "A value is trying to be set on a copy of a slice from a DataFrame\n",
      "\n",
      "See the caveats in the documentation: http://pandas.pydata.org/pandas-docs/stable/indexing.html#indexing-view-versus-copy\n"
     ]
    },
    {
     "data": {
      "text/html": [
       "<div>\n",
       "<table border=\"1\" class=\"dataframe\">\n",
       "  <thead>\n",
       "    <tr style=\"text-align: right;\">\n",
       "      <th></th>\n",
       "      <th>Date</th>\n",
       "      <th>Symbol</th>\n",
       "      <th>Close</th>\n",
       "      <th>High</th>\n",
       "      <th>Low</th>\n",
       "      <th>Open</th>\n",
       "      <th>Volume</th>\n",
       "      <th>compound</th>\n",
       "      <th>neg</th>\n",
       "      <th>neu</th>\n",
       "      <th>pos</th>\n",
       "      <th>Next_Close</th>\n",
       "      <th>Next_Open</th>\n",
       "      <th>Prev_Close</th>\n",
       "    </tr>\n",
       "  </thead>\n",
       "  <tbody>\n",
       "    <tr>\n",
       "      <th>0</th>\n",
       "      <td>2014-01-02</td>\n",
       "      <td>AEE</td>\n",
       "      <td>35.53</td>\n",
       "      <td>36.11</td>\n",
       "      <td>35.47</td>\n",
       "      <td>36.05</td>\n",
       "      <td>1394264.0</td>\n",
       "      <td>NaN</td>\n",
       "      <td>NaN</td>\n",
       "      <td>NaN</td>\n",
       "      <td>NaN</td>\n",
       "      <td>35.40</td>\n",
       "      <td>35.63</td>\n",
       "      <td>NaN</td>\n",
       "    </tr>\n",
       "    <tr>\n",
       "      <th>1</th>\n",
       "      <td>2014-01-03</td>\n",
       "      <td>AEE</td>\n",
       "      <td>35.40</td>\n",
       "      <td>35.69</td>\n",
       "      <td>35.22</td>\n",
       "      <td>35.63</td>\n",
       "      <td>1206534.0</td>\n",
       "      <td>NaN</td>\n",
       "      <td>NaN</td>\n",
       "      <td>NaN</td>\n",
       "      <td>NaN</td>\n",
       "      <td>35.76</td>\n",
       "      <td>35.70</td>\n",
       "      <td>35.53</td>\n",
       "    </tr>\n",
       "    <tr>\n",
       "      <th>2</th>\n",
       "      <td>2014-01-06</td>\n",
       "      <td>AEE</td>\n",
       "      <td>35.76</td>\n",
       "      <td>35.82</td>\n",
       "      <td>35.42</td>\n",
       "      <td>35.70</td>\n",
       "      <td>2837469.0</td>\n",
       "      <td>NaN</td>\n",
       "      <td>NaN</td>\n",
       "      <td>NaN</td>\n",
       "      <td>NaN</td>\n",
       "      <td>36.22</td>\n",
       "      <td>35.81</td>\n",
       "      <td>35.40</td>\n",
       "    </tr>\n",
       "    <tr>\n",
       "      <th>3</th>\n",
       "      <td>2014-01-07</td>\n",
       "      <td>AEE</td>\n",
       "      <td>36.22</td>\n",
       "      <td>36.25</td>\n",
       "      <td>35.81</td>\n",
       "      <td>35.81</td>\n",
       "      <td>1653721.0</td>\n",
       "      <td>NaN</td>\n",
       "      <td>NaN</td>\n",
       "      <td>NaN</td>\n",
       "      <td>NaN</td>\n",
       "      <td>35.94</td>\n",
       "      <td>36.14</td>\n",
       "      <td>35.76</td>\n",
       "    </tr>\n",
       "    <tr>\n",
       "      <th>4</th>\n",
       "      <td>2014-01-08</td>\n",
       "      <td>AEE</td>\n",
       "      <td>35.94</td>\n",
       "      <td>36.19</td>\n",
       "      <td>35.80</td>\n",
       "      <td>36.14</td>\n",
       "      <td>1618538.0</td>\n",
       "      <td>NaN</td>\n",
       "      <td>NaN</td>\n",
       "      <td>NaN</td>\n",
       "      <td>NaN</td>\n",
       "      <td>36.04</td>\n",
       "      <td>36.02</td>\n",
       "      <td>36.22</td>\n",
       "    </tr>\n",
       "  </tbody>\n",
       "</table>\n",
       "</div>"
      ],
      "text/plain": [
       "        Date Symbol  Close   High    Low   Open     Volume  compound  neg  \\\n",
       "0 2014-01-02    AEE  35.53  36.11  35.47  36.05  1394264.0       NaN  NaN   \n",
       "1 2014-01-03    AEE  35.40  35.69  35.22  35.63  1206534.0       NaN  NaN   \n",
       "2 2014-01-06    AEE  35.76  35.82  35.42  35.70  2837469.0       NaN  NaN   \n",
       "3 2014-01-07    AEE  36.22  36.25  35.81  35.81  1653721.0       NaN  NaN   \n",
       "4 2014-01-08    AEE  35.94  36.19  35.80  36.14  1618538.0       NaN  NaN   \n",
       "\n",
       "   neu  pos  Next_Close  Next_Open  Prev_Close  \n",
       "0  NaN  NaN       35.40      35.63         NaN  \n",
       "1  NaN  NaN       35.76      35.70       35.53  \n",
       "2  NaN  NaN       36.22      35.81       35.40  \n",
       "3  NaN  NaN       35.94      36.14       35.76  \n",
       "4  NaN  NaN       36.04      36.02       36.22  "
      ]
     },
     "execution_count": 13,
     "metadata": {},
     "output_type": "execute_result"
    }
   ],
   "source": [
    "# Since we did shift on the whole document we need to change first and last quote for each symbol\n",
    "for symbol in quotes_articles['Symbol'].unique():\n",
    "    min_date = quotes_articles[(quotes_articles['Symbol'] == symbol)].Date.min()\n",
    "    max_date = quotes_articles[(quotes_articles['Symbol'] == symbol)].Date.max()\n",
    "    quotes_articles.Prev_Close[(quotes_articles['Symbol'] == symbol) & (quotes_articles['Date'] == min_date)] = None\n",
    "    quotes_articles.Prev_Close[(quotes_articles['Symbol'] == symbol) & (quotes_articles['Date'] == max_date)] = None\n",
    "quotes_articles.head()"
   ]
  },
  {
   "cell_type": "code",
   "execution_count": 14,
   "metadata": {
    "collapsed": true
   },
   "outputs": [],
   "source": [
    "calculate_slopes = lambda x: pd.Series([\n",
    "        x['Close'] - x['Prev_Close'],\n",
    "        x['Next_Close'] - x['Close'],\n",
    "        (x['Next_Close'] - x['Close']) - (x['Close'] - x['Prev_Close']),\n",
    "    ])"
   ]
  },
  {
   "cell_type": "code",
   "execution_count": 15,
   "metadata": {
    "collapsed": false,
    "scrolled": true
   },
   "outputs": [],
   "source": [
    "tmp = quotes_articles.apply(calculate_slopes, axis=1)\n",
    "tmp.columns = ['Prev_Slope', 'Next_Slope', 'Diff_Slope']\n",
    "quotes_articles = pd.concat([quotes_articles, tmp], axis=1)"
   ]
  },
  {
   "cell_type": "code",
   "execution_count": 16,
   "metadata": {
    "collapsed": false
   },
   "outputs": [
    {
     "data": {
      "text/html": [
       "<div>\n",
       "<table border=\"1\" class=\"dataframe\">\n",
       "  <thead>\n",
       "    <tr style=\"text-align: right;\">\n",
       "      <th></th>\n",
       "      <th>Date</th>\n",
       "      <th>Symbol</th>\n",
       "      <th>Close</th>\n",
       "      <th>High</th>\n",
       "      <th>Low</th>\n",
       "      <th>Open</th>\n",
       "      <th>Volume</th>\n",
       "      <th>compound</th>\n",
       "      <th>neg</th>\n",
       "      <th>neu</th>\n",
       "      <th>pos</th>\n",
       "      <th>Next_Close</th>\n",
       "      <th>Next_Open</th>\n",
       "      <th>Prev_Close</th>\n",
       "      <th>Prev_Slope</th>\n",
       "      <th>Next_Slope</th>\n",
       "      <th>Diff_Slope</th>\n",
       "    </tr>\n",
       "  </thead>\n",
       "  <tbody>\n",
       "    <tr>\n",
       "      <th>355</th>\n",
       "      <td>2015-06-02</td>\n",
       "      <td>AEE</td>\n",
       "      <td>39.62</td>\n",
       "      <td>40.01</td>\n",
       "      <td>39.26</td>\n",
       "      <td>40.00</td>\n",
       "      <td>1481676.0</td>\n",
       "      <td>-0.033950</td>\n",
       "      <td>0.0545</td>\n",
       "      <td>0.924000</td>\n",
       "      <td>0.021500</td>\n",
       "      <td>39.31</td>\n",
       "      <td>39.51</td>\n",
       "      <td>40.22</td>\n",
       "      <td>-0.60</td>\n",
       "      <td>-0.31</td>\n",
       "      <td>0.29</td>\n",
       "    </tr>\n",
       "    <tr>\n",
       "      <th>390</th>\n",
       "      <td>2015-07-22</td>\n",
       "      <td>AEE</td>\n",
       "      <td>38.66</td>\n",
       "      <td>39.04</td>\n",
       "      <td>38.61</td>\n",
       "      <td>38.73</td>\n",
       "      <td>1354719.0</td>\n",
       "      <td>-0.979000</td>\n",
       "      <td>0.0910</td>\n",
       "      <td>0.892000</td>\n",
       "      <td>0.017000</td>\n",
       "      <td>38.27</td>\n",
       "      <td>38.55</td>\n",
       "      <td>38.70</td>\n",
       "      <td>-0.04</td>\n",
       "      <td>-0.39</td>\n",
       "      <td>-0.35</td>\n",
       "    </tr>\n",
       "    <tr>\n",
       "      <th>432</th>\n",
       "      <td>2015-09-21</td>\n",
       "      <td>AEE</td>\n",
       "      <td>40.82</td>\n",
       "      <td>41.06</td>\n",
       "      <td>40.39</td>\n",
       "      <td>40.52</td>\n",
       "      <td>1704133.0</td>\n",
       "      <td>-0.599400</td>\n",
       "      <td>0.0580</td>\n",
       "      <td>0.919000</td>\n",
       "      <td>0.024000</td>\n",
       "      <td>40.50</td>\n",
       "      <td>40.52</td>\n",
       "      <td>40.37</td>\n",
       "      <td>0.45</td>\n",
       "      <td>-0.32</td>\n",
       "      <td>-0.77</td>\n",
       "    </tr>\n",
       "    <tr>\n",
       "      <th>570</th>\n",
       "      <td>2016-04-08</td>\n",
       "      <td>AEE</td>\n",
       "      <td>48.78</td>\n",
       "      <td>51.00</td>\n",
       "      <td>48.70</td>\n",
       "      <td>49.40</td>\n",
       "      <td>4807348.0</td>\n",
       "      <td>0.839033</td>\n",
       "      <td>0.0000</td>\n",
       "      <td>0.872333</td>\n",
       "      <td>0.127667</td>\n",
       "      <td>48.68</td>\n",
       "      <td>48.86</td>\n",
       "      <td>49.16</td>\n",
       "      <td>-0.38</td>\n",
       "      <td>-0.10</td>\n",
       "      <td>0.28</td>\n",
       "    </tr>\n",
       "    <tr>\n",
       "      <th>592</th>\n",
       "      <td>2016-05-10</td>\n",
       "      <td>AEE</td>\n",
       "      <td>48.66</td>\n",
       "      <td>48.86</td>\n",
       "      <td>48.40</td>\n",
       "      <td>48.52</td>\n",
       "      <td>1366599.0</td>\n",
       "      <td>0.778300</td>\n",
       "      <td>0.0000</td>\n",
       "      <td>0.833000</td>\n",
       "      <td>0.167000</td>\n",
       "      <td>48.15</td>\n",
       "      <td>48.63</td>\n",
       "      <td>48.43</td>\n",
       "      <td>0.23</td>\n",
       "      <td>-0.51</td>\n",
       "      <td>-0.74</td>\n",
       "    </tr>\n",
       "  </tbody>\n",
       "</table>\n",
       "</div>"
      ],
      "text/plain": [
       "          Date Symbol  Close   High    Low   Open     Volume  compound  \\\n",
       "355 2015-06-02    AEE  39.62  40.01  39.26  40.00  1481676.0 -0.033950   \n",
       "390 2015-07-22    AEE  38.66  39.04  38.61  38.73  1354719.0 -0.979000   \n",
       "432 2015-09-21    AEE  40.82  41.06  40.39  40.52  1704133.0 -0.599400   \n",
       "570 2016-04-08    AEE  48.78  51.00  48.70  49.40  4807348.0  0.839033   \n",
       "592 2016-05-10    AEE  48.66  48.86  48.40  48.52  1366599.0  0.778300   \n",
       "\n",
       "        neg       neu       pos  Next_Close  Next_Open  Prev_Close  \\\n",
       "355  0.0545  0.924000  0.021500       39.31      39.51       40.22   \n",
       "390  0.0910  0.892000  0.017000       38.27      38.55       38.70   \n",
       "432  0.0580  0.919000  0.024000       40.50      40.52       40.37   \n",
       "570  0.0000  0.872333  0.127667       48.68      48.86       49.16   \n",
       "592  0.0000  0.833000  0.167000       48.15      48.63       48.43   \n",
       "\n",
       "     Prev_Slope  Next_Slope  Diff_Slope  \n",
       "355       -0.60       -0.31        0.29  \n",
       "390       -0.04       -0.39       -0.35  \n",
       "432        0.45       -0.32       -0.77  \n",
       "570       -0.38       -0.10        0.28  \n",
       "592        0.23       -0.51       -0.74  "
      ]
     },
     "execution_count": 16,
     "metadata": {},
     "output_type": "execute_result"
    }
   ],
   "source": [
    "# simple select for quotes with articles\n",
    "has_news = quotes_articles[(quotes_articles['compound'].notnull())]\n",
    "has_news = has_news.dropna()\n",
    "has_news.head()"
   ]
  },
  {
   "cell_type": "code",
   "execution_count": 17,
   "metadata": {
    "collapsed": false
   },
   "outputs": [
    {
     "data": {
      "text/plain": [
       "<matplotlib.axes._subplots.AxesSubplot at 0x7f6f44d7e610>"
      ]
     },
     "execution_count": 17,
     "metadata": {},
     "output_type": "execute_result"
    },
    {
     "data": {
      "image/png": "[encoded data removed]",
      "text/plain": [
       "<matplotlib.figure.Figure at 0x7f6f44ac47d0>"
      ]
     },
     "metadata": {},
     "output_type": "display_data"
    }
   ],
   "source": [
    "slr.set_style()\n",
    "companies.GICS_Sector.value_counts().plot.barh(figsize=(16, 8))"
   ]
  },
  {
   "cell_type": "code",
   "execution_count": 18,
   "metadata": {
    "collapsed": false
   },
   "outputs": [
    {
     "data": {
      "text/plain": [
       "<matplotlib.axes._subplots.AxesSubplot at 0x7f6f42c1da10>"
      ]
     },
     "execution_count": 18,
     "metadata": {},
     "output_type": "execute_result"
    },
    {
     "data": {
      "image/png": "[encoded data removed]",
      "text/plain": [
       "<matplotlib.figure.Figure at 0x7f6f485d4210>"
      ]
     },
     "metadata": {},
     "output_type": "display_data"
    }
   ],
   "source": [
    "plt.figure(figsize=(25,15))\n",
    "sns.heatmap(\n",
    "    has_news[['Close', 'High', 'Low', 'Open', 'Volume',\n",
    "              'compound', 'neg', 'neu', 'pos', 'Next_Open',\n",
    "              'Prev_Slope', 'Diff_Slope']].corr(),\n",
    "    vmax=.3,\n",
    "    square=True, \n",
    "    linewidths=.5,\n",
    "    cbar_kws={\"shrink\": .5})"
   ]
  },
  {
   "cell_type": "code",
   "execution_count": 19,
   "metadata": {
    "collapsed": false
   },
   "outputs": [],
   "source": [
    "x = has_news[['Close', 'High', 'Low', 'Open', 'Volume', 'compound',\n",
    "              'neg', 'neu', 'pos', 'Next_Open', 'Prev_Slope']]\n",
    "y = has_news['Diff_Slope']\n",
    "x_train, x_test, y_train, y_test=train_test_split(x, y, test_size=0.3)"
   ]
  },
  {
   "cell_type": "markdown",
   "metadata": {
    "collapsed": true
   },
   "source": [
    "# Modeling"
   ]
  },
  {
   "cell_type": "code",
   "execution_count": 23,
   "metadata": {
    "collapsed": false
   },
   "outputs": [
    {
     "name": "stdout",
     "output_type": "stream",
     "text": [
      "LinearRegression(copy_X=True, fit_intercept=False, n_jobs=-1, normalize=False) \n",
      "\n",
      "Mean cross validation score                       0.843836096682\n",
      "Model socre                                       0.795887548297\n",
      "Explained variance regression score               0.795953750091\n",
      "Mean Absolute Error                               1.0716026523\n",
      "\n",
      "score for test data                               0.960502748998\n",
      "RidgeCV(alphas=[0.1, 0.5, 1.0, 5.0, 10.0, 100.0], cv=None, fit_intercept=True,\n",
      "    gcv_mode=None, normalize=True, scoring=None, store_cv_values=False) \n",
      "\n",
      "Mean cross validation score                       0.446457529308\n",
      "Model socre                                       0.589976228701\n",
      "Explained variance regression score               0.590081259136\n",
      "Mean Absolute Error                               1.37763377713\n",
      "\n",
      "score for test data                               0.869805112658\n",
      "RandomForestRegressor(bootstrap=True, criterion='mse', max_depth=5,\n",
      "           max_features='auto', max_leaf_nodes=None, min_samples_leaf=1,\n",
      "           min_samples_split=2, min_weight_fraction_leaf=0.0,\n",
      "           n_estimators=50, n_jobs=-1, oob_score=False, random_state=None,\n",
      "           verbose=0, warm_start=False) \n",
      "\n",
      "Mean cross validation score                       0.393724728417\n",
      "Model socre                                       0.559524712052\n",
      "Explained variance regression score               0.559530782928\n",
      "Mean Absolute Error                               1.38987997413\n",
      "\n",
      "score for test data                               0.334428634456\n",
      "ExtraTreesRegressor(bootstrap=False, criterion='mse', max_depth=5,\n",
      "          max_features='auto', max_leaf_nodes=None, min_samples_leaf=1,\n",
      "          min_samples_split=2, min_weight_fraction_leaf=0.0,\n",
      "          n_estimators=20, n_jobs=-1, oob_score=False, random_state=None,\n",
      "          verbose=0, warm_start=False) \n",
      "\n",
      "Mean cross validation score                       0.332840734601\n",
      "Model socre                                       0.543523632308\n",
      "Explained variance regression score               0.543559144014\n",
      "Mean Absolute Error                               1.7848949999\n",
      "\n",
      "score for test data                               0.299316546894\n"
     ]
    },
    {
     "data": {
      "image/png": "[encoded data removed]",
      "text/plain": [
       "<matplotlib.figure.Figure at 0x7f6f42a699d0>"
      ]
     },
     "metadata": {},
     "output_type": "display_data"
    }
   ],
   "source": [
    "filename = 'datasets/models/all.sav'\n",
    "all_dic = {}\n",
    "if os.path.exists(filename):\n",
    "    all_dic = joblib.load(filename)\n",
    "else:\n",
    "    all_dic['lr_model'], all_dic['lr_report'] = slr.linear_regression(x_train, y_train)\n",
    "    all_dic['rd_model'], all_dic['rd_report'] = slr.ridge_cv(x_train, y_train)\n",
    "    all_dic['rf_model'], all_dic['rf_report'] = slr.random_forest(x_train, y_train)\n",
    "    all_dic['et_model'], all_dic['et_report'] = slr.extra_trees(x_train, y_train)\n",
    "\n",
    "    all_dic['size'] = x.shape[0]\n",
    "    joblib.dump(all_dic, filename)\n",
    "\n",
    "slr.print_model_report(all_dic['lr_report'], \n",
    "                       model=all_dic['lr_model'], score=all_dic['lr_model'].score(x_test, y_test))\n",
    "slr.print_model_report(all_dic['rd_report'], \n",
    "                       model=all_dic['rd_model'], score=all_dic['rd_model'].score(x_test, y_test))\n",
    "slr.print_model_report(all_dic['rf_report'], \n",
    "                       model=all_dic['rf_model'], score=all_dic['rf_model'].score(x_test, y_test))\n",
    "slr.print_model_report(all_dic['et_report'], \n",
    "                       model=all_dic['et_model'], score=all_dic['et_model'].score(x_test, y_test))\n",
    "\n",
    "slr.plot_comparisions(y_test,\n",
    "                  all_dic['lr_model'].predict(x_test),\n",
    "                  all_dic['rd_model'].predict(x_test),\n",
    "                  all_dic['rf_model'].predict(x_test),\n",
    "                  all_dic['et_model'].predict(x_test)\n",
    "                 )"
   ]
  },
  {
   "cell_type": "code",
   "execution_count": 24,
   "metadata": {
    "collapsed": false
   },
   "outputs": [],
   "source": [
    "sector_symbols = {}\n",
    "for sector in companies.GICS_Sector.unique():\n",
    "    sector_symbols[sector] = list(companies.Ticker_symbol[companies.GICS_Sector == sector])"
   ]
  },
  {
   "cell_type": "code",
   "execution_count": 25,
   "metadata": {
    "collapsed": false,
    "scrolled": false
   },
   "outputs": [
    {
     "name": "stdout",
     "output_type": "stream",
     "text": [
      "Telecommunications Services\n"
     ]
    },
    {
     "ename": "NameError",
     "evalue": "name 'linear_regression' is not defined",
     "output_type": "error",
     "traceback": [
      "\u001b[0;31m-----------------------------------\u001b[0m",
      "\u001b[0;31mNameError\u001b[0mTraceback (most recent call last)",
      "\u001b[0;32m<ipython-input-25-60711aca0f16>\u001b[0m in \u001b[0;36m<module>\u001b[0;34m()\u001b[0m\n\u001b[1;32m     15\u001b[0m         \u001b[0msec_dic\u001b[0m \u001b[0;34m=\u001b[0m \u001b[0mjoblib\u001b[0m\u001b[0;34m.\u001b[0m\u001b[0mload\u001b[0m\u001b[0;34m(\u001b[0m\u001b[0mfilename\u001b[0m\u001b[0;34m)\u001b[0m\u001b[0;34m\u001b[0m\u001b[0m\n\u001b[1;32m     16\u001b[0m     \u001b[0;32melse\u001b[0m\u001b[0;34m:\u001b[0m\u001b[0;34m\u001b[0m\u001b[0m\n\u001b[0;32m---> 17\u001b[0;31m         \u001b[0msec_dic\u001b[0m\u001b[0;34m[\u001b[0m\u001b[0;34m'lr_model'\u001b[0m\u001b[0;34m]\u001b[0m\u001b[0;34m,\u001b[0m \u001b[0msec_dic\u001b[0m\u001b[0;34m[\u001b[0m\u001b[0;34m'lr_report'\u001b[0m\u001b[0;34m]\u001b[0m \u001b[0;34m=\u001b[0m \u001b[0mlinear_regression\u001b[0m\u001b[0;34m(\u001b[0m\u001b[0msec_x_train\u001b[0m\u001b[0;34m,\u001b[0m \u001b[0msec_y_train\u001b[0m\u001b[0;34m)\u001b[0m\u001b[0;34m\u001b[0m\u001b[0m\n\u001b[0m\u001b[1;32m     18\u001b[0m         \u001b[0msec_dic\u001b[0m\u001b[0;34m[\u001b[0m\u001b[0;34m'rd_model'\u001b[0m\u001b[0;34m]\u001b[0m\u001b[0;34m,\u001b[0m \u001b[0msec_dic\u001b[0m\u001b[0;34m[\u001b[0m\u001b[0;34m'rd_report'\u001b[0m\u001b[0;34m]\u001b[0m \u001b[0;34m=\u001b[0m \u001b[0mridge_cv\u001b[0m\u001b[0;34m(\u001b[0m\u001b[0msec_x_train\u001b[0m\u001b[0;34m,\u001b[0m \u001b[0msec_y_train\u001b[0m\u001b[0;34m)\u001b[0m\u001b[0;34m\u001b[0m\u001b[0m\n\u001b[1;32m     19\u001b[0m         \u001b[0msec_dic\u001b[0m\u001b[0;34m[\u001b[0m\u001b[0;34m'rf_model'\u001b[0m\u001b[0;34m]\u001b[0m\u001b[0;34m,\u001b[0m \u001b[0msec_dic\u001b[0m\u001b[0;34m[\u001b[0m\u001b[0;34m'rf_report'\u001b[0m\u001b[0;34m]\u001b[0m \u001b[0;34m=\u001b[0m \u001b[0mrandom_forest\u001b[0m\u001b[0;34m(\u001b[0m\u001b[0msec_x_train\u001b[0m\u001b[0;34m,\u001b[0m \u001b[0msec_y_train\u001b[0m\u001b[0;34m)\u001b[0m\u001b[0;34m\u001b[0m\u001b[0m\n",
      "\u001b[0;31mNameError\u001b[0m: name 'linear_regression' is not defined"
     ]
    }
   ],
   "source": [
    "all_sectors = {}\n",
    "for sector, symbols in sector_symbols.iteritems():\n",
    "    sector_news = has_news[(has_news.Symbol.isin(sector_symbols[sector]))]\n",
    "\n",
    "    sec_x = sector_news[['Close', 'High', 'Low', 'Open', 'Volume', 'compound',\n",
    "                         'neg', 'neu', 'pos', 'Next_Open', 'Prev_Slope']]\n",
    "    sec_y = sector_news['Diff_Slope']\n",
    "    sec_x_train, sec_x_test, sec_y_train, sec_y_test=train_test_split(sec_x, sec_y, test_size=0.3)\n",
    "    print sector\n",
    "\n",
    "    filename = 'datasets/models/{}.sav'.format(sector.replace(' ', '_'))\n",
    "\n",
    "    sec_dic = {}\n",
    "    if os.path.exists(filename):\n",
    "        sec_dic = joblib.load(filename)\n",
    "    else:\n",
    "        sec_dic['lr_model'], sec_dic['lr_report'] = slr.linear_regression(sec_x_train, sec_y_train)\n",
    "        sec_dic['rd_model'], sec_dic['rd_report'] = slr.ridge_cv(sec_x_train, sec_y_train)\n",
    "        sec_dic['rf_model'], sec_dic['rf_report'] = slr.random_forest(sec_x_train, sec_y_train)\n",
    "        sec_dic['et_model'], sec_dic['et_report'] = slr.extra_trees(sec_x_train, sec_y_train)\n",
    "        joblib.dump(sec_dic, filename)\n",
    "        \n",
    "    sec_dic['size'] = sec_x.shape[0]\n",
    "    sec_dic['lr_score'] = sec_dic['lr_model'].score(sec_x_test, sec_y_test)\n",
    "    sec_dic['rd_score'] = sec_dic['rd_model'].score(sec_x_test, sec_y_test)\n",
    "    sec_dic['rf_score'] = sec_dic['rf_model'].score(sec_x_test, sec_y_test)\n",
    "    sec_dic['et_score'] = sec_dic['et_model'].score(sec_x_test, sec_y_test)\n",
    "\n",
    "    print sec_dic['size']\n",
    "    all_sectors[sector] = sec_dic\n",
    "    \n",
    "#     print print_comparisions(sec_y_test, sec_x_test,\n",
    "#                              sec_dic['lr_model'],\n",
    "#                              sec_dic['rd_model'],\n",
    "#                              sec_dic['rf_model'],\n",
    "#                              sec_dic['et_model'],\n",
    "#                              title = sector\n",
    "#                      )\n",
    "    slr.plot_comparisions(sec_y_test,\n",
    "                      sec_dic['lr_model'].predict(sec_x_test),\n",
    "                      sec_dic['rd_model'].predict(sec_x_test),\n",
    "                      sec_dic['rf_model'].predict(sec_x_test),\n",
    "                      sec_dic['et_model'].predict(sec_x_test)\n",
    "                     )"
   ]
  },
  {
   "cell_type": "code",
   "execution_count": null,
   "metadata": {
    "collapsed": false
   },
   "outputs": [],
   "source": [
    "sector_report = pd.DataFrame(all_sectors)\n",
    "sector_report"
   ]
  },
  {
   "cell_type": "code",
   "execution_count": null,
   "metadata": {
    "collapsed": false
   },
   "outputs": [],
   "source": [
    "slr.set_style()\n",
    "ax = sector_report.loc['size', :].plot.bar(figsize=(16, 8))\n",
    "ax.set_ylabel(\"Number of Articles\", fontsize=12)\n",
    "ax.set_xlabel(\"Industry Sectors\", fontsize=12)\n",
    "ax.set_title('Number of Articles in each Sector', fontsize=24)"
   ]
  },
  {
   "cell_type": "code",
   "execution_count": null,
   "metadata": {
    "collapsed": false
   },
   "outputs": [],
   "source": [
    "slr.set_style()\n",
    "ax = sector_report.loc['lr_score', :].plot.bar(figsize=(16, 8))\n",
    "ax.set_ylabel(\"Score\", fontsize=12)\n",
    "ax.set_xlabel(\"Industry Sectors\", fontsize=12)\n",
    "ax.set_title('Linear Regresion score in each Sector', fontsize=24)"
   ]
  },
  {
   "cell_type": "code",
   "execution_count": null,
   "metadata": {
    "collapsed": false
   },
   "outputs": [],
   "source": [
    "slr.set_style()\n",
    "ax = sector_report.loc['rd_score', :].plot.bar(figsize=(16, 8))\n",
    "ax.set_ylabel(\"Score\", fontsize=12)\n",
    "ax.set_xlabel(\"Industry Sectors\", fontsize=12)\n",
    "ax.set_title('RidgeCV score in each Sector', fontsize=24)"
   ]
  },
  {
   "cell_type": "code",
   "execution_count": null,
   "metadata": {
    "collapsed": false
   },
   "outputs": [],
   "source": [
    "slr.set_style()\n",
    "ax = sector_report.loc['et_score', :].plot.bar(figsize=(16, 8))\n",
    "ax.set_ylabel(\"Score\", fontsize=12)\n",
    "ax.set_xlabel(\"Industry Sectors\", fontsize=12)\n",
    "ax.set_title('Random Forest score in each Sector', fontsize=24)"
   ]
  },
  {
   "cell_type": "code",
   "execution_count": null,
   "metadata": {
    "collapsed": false
   },
   "outputs": [],
   "source": [
    "slr.set_style()\n",
    "ax = sector_report.loc['rf_score', :].plot.bar(figsize=(16, 8))\n",
    "ax.set_ylabel(\"Score\", fontsize=12)\n",
    "ax.set_xlabel(\"Industry Sectors\", fontsize=12)\n",
    "ax.set_title('Extra Random Trees score in each Sector', fontsize=24)"
   ]
  },
  {
   "cell_type": "code",
   "execution_count": null,
   "metadata": {
    "collapsed": false
   },
   "outputs": [],
   "source": [
    "lr_means = pd.DataFrame(\n",
    "    [[key, ms['Mean cross validation score']] for key, ms in sector_report.loc['lr_report', :].iteritems()],\n",
    "    columns=['sectors', 'lr'])\n",
    "\n",
    "rd_means = pd.DataFrame(\n",
    "    [[key, ms['Mean cross validation score']] for key, ms in sector_report.loc['rd_report', :].iteritems()])\n",
    "rf_means = pd.DataFrame(\n",
    "    [[key, ms['Mean cross validation score']] for key, ms in sector_report.loc['rf_report', :].iteritems()])\n",
    "et_means = pd.DataFrame(\n",
    "    [[key, ms['Mean cross validation score']] for key, ms in sector_report.loc['et_report', :].iteritems()])\n",
    "means = pd.concat([lr_means, rd_means, rf_means, et_means], axis=1).drop(0, axis=1).set_index('sectors')\n",
    "means.columns = ['Linear Regression', 'RidgeCV', 'Random Forest', 'Extra Trees']\n",
    "means"
   ]
  },
  {
   "cell_type": "code",
   "execution_count": null,
   "metadata": {
    "collapsed": false
   },
   "outputs": [],
   "source": [
    "# means.plot.bar()\n",
    "slr.set_style()\n",
    "ax = means.plot.bar(figsize=(16, 8))\n",
    "ax.set_ylabel(\"Score\", fontsize=12)\n",
    "ax.set_xlabel(\"Industry Sectors\", fontsize=12)\n",
    "ax.set_title('Comparison of mean scores', fontsize=24)\n"
   ]
  },
  {
   "cell_type": "code",
   "execution_count": null,
   "metadata": {
    "collapsed": true
   },
   "outputs": [],
   "source": []
  }
 ],
 "metadata": {
  "anaconda-cloud": {},
  "kernelspec": {
   "display_name": "Python [conda root]",
   "language": "python",
   "name": "conda-root-py"
  },
  "language_info": {
   "codemirror_mode": {
    "name": "ipython",
    "version": 2
   },
   "file_extension": ".py",
   "mimetype": "text/x-python",
   "name": "python",
   "nbconvert_exporter": "python",
   "pygments_lexer": "ipython2",
   "version": "2.7.12"
  }
 },
 "nbformat": 4,
 "nbformat_minor": 1
}
